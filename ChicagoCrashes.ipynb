{
 "cells": [
  {
   "cell_type": "code",
   "execution_count": 17,
   "metadata": {},
   "outputs": [],
   "source": [
    "import numpy as np\n",
    "import pandas as pd\n",
    "\n",
    "from sklearn.model_selection import train_test_split\n",
    "from sklearn.model_selection import cross_val_score\n",
    "import category_encoders as ce\n",
    "from sklearn.impute import SimpleImputer\n",
    "from sklearn.preprocessing import StandardScaler\n",
    "from sklearn.pipeline import make_pipeline\n",
    "from sklearn.model_selection import RandomizedSearchCV\n",
    "from sklearn.ensemble import RandomForestClassifier\n",
    "from sklearn.linear_model import LogisticRegressionCV\n",
    "from sklearn.dummy import DummyClassifier\n",
    "from sklearn.metrics import accuracy_score\n",
    "from sklearn.metrics import classification_report\n",
    "from sklearn.metrics import make_scorer\n",
    "from sklearn.metrics import recall_score"
   ]
  },
  {
   "cell_type": "code",
   "execution_count": 2,
   "metadata": {},
   "outputs": [
    {
     "name": "stderr",
     "output_type": "stream",
     "text": [
      "C:\\Users\\Westopher\\Coding\\Anaconda3\\lib\\site-packages\\IPython\\core\\interactiveshell.py:3058: DtypeWarning: Columns (11,12,19,20,21,22,23,24,25,26,28) have mixed types. Specify dtype option on import or set low_memory=False.\n",
      "  interactivity=interactivity, compiler=compiler, result=result)\n"
     ]
    }
   ],
   "source": [
    "people = pd.read_csv('../DS-Unit-2-4-Build-Week/people.csv')"
   ]
  },
  {
   "cell_type": "code",
   "execution_count": 3,
   "metadata": {},
   "outputs": [
    {
     "data": {
      "text/html": [
       "<div>\n",
       "<style scoped>\n",
       "    .dataframe tbody tr th:only-of-type {\n",
       "        vertical-align: middle;\n",
       "    }\n",
       "\n",
       "    .dataframe tbody tr th {\n",
       "        vertical-align: top;\n",
       "    }\n",
       "\n",
       "    .dataframe thead th {\n",
       "        text-align: right;\n",
       "    }\n",
       "</style>\n",
       "<table border=\"1\" class=\"dataframe\">\n",
       "  <thead>\n",
       "    <tr style=\"text-align: right;\">\n",
       "      <th></th>\n",
       "      <th>count</th>\n",
       "      <th>mean</th>\n",
       "      <th>std</th>\n",
       "      <th>min</th>\n",
       "      <th>25%</th>\n",
       "      <th>50%</th>\n",
       "      <th>75%</th>\n",
       "      <th>max</th>\n",
       "    </tr>\n",
       "  </thead>\n",
       "  <tbody>\n",
       "    <tr>\n",
       "      <td>VEHICLE_ID</td>\n",
       "      <td>768713.0</td>\n",
       "      <td>372184.236701</td>\n",
       "      <td>214710.997314</td>\n",
       "      <td>2.0</td>\n",
       "      <td>187073.00</td>\n",
       "      <td>371645.00</td>\n",
       "      <td>557891.00</td>\n",
       "      <td>744984.00</td>\n",
       "    </tr>\n",
       "    <tr>\n",
       "      <td>SEAT_NO</td>\n",
       "      <td>153425.0</td>\n",
       "      <td>4.208121</td>\n",
       "      <td>2.169906</td>\n",
       "      <td>1.0</td>\n",
       "      <td>3.00</td>\n",
       "      <td>3.00</td>\n",
       "      <td>6.00</td>\n",
       "      <td>12.00</td>\n",
       "    </tr>\n",
       "    <tr>\n",
       "      <td>AGE</td>\n",
       "      <td>564067.0</td>\n",
       "      <td>38.063264</td>\n",
       "      <td>17.099626</td>\n",
       "      <td>-49.0</td>\n",
       "      <td>26.00</td>\n",
       "      <td>36.00</td>\n",
       "      <td>50.00</td>\n",
       "      <td>110.00</td>\n",
       "    </tr>\n",
       "    <tr>\n",
       "      <td>BAC_RESULT VALUE</td>\n",
       "      <td>952.0</td>\n",
       "      <td>0.172027</td>\n",
       "      <td>0.098773</td>\n",
       "      <td>0.0</td>\n",
       "      <td>0.13</td>\n",
       "      <td>0.17</td>\n",
       "      <td>0.22</td>\n",
       "      <td>0.99</td>\n",
       "    </tr>\n",
       "  </tbody>\n",
       "</table>\n",
       "</div>"
      ],
      "text/plain": [
       "                     count           mean            std   min        25%  \\\n",
       "VEHICLE_ID        768713.0  372184.236701  214710.997314   2.0  187073.00   \n",
       "SEAT_NO           153425.0       4.208121       2.169906   1.0       3.00   \n",
       "AGE               564067.0      38.063264      17.099626 -49.0      26.00   \n",
       "BAC_RESULT VALUE     952.0       0.172027       0.098773   0.0       0.13   \n",
       "\n",
       "                        50%        75%        max  \n",
       "VEHICLE_ID        371645.00  557891.00  744984.00  \n",
       "SEAT_NO                3.00       6.00      12.00  \n",
       "AGE                   36.00      50.00     110.00  \n",
       "BAC_RESULT VALUE       0.17       0.22       0.99  "
      ]
     },
     "execution_count": 3,
     "metadata": {},
     "output_type": "execute_result"
    }
   ],
   "source": [
    "people.describe().T"
   ]
  },
  {
   "cell_type": "code",
   "execution_count": 4,
   "metadata": {},
   "outputs": [
    {
     "data": {
      "text/html": [
       "<div>\n",
       "<style scoped>\n",
       "    .dataframe tbody tr th:only-of-type {\n",
       "        vertical-align: middle;\n",
       "    }\n",
       "\n",
       "    .dataframe tbody tr th {\n",
       "        vertical-align: top;\n",
       "    }\n",
       "\n",
       "    .dataframe thead th {\n",
       "        text-align: right;\n",
       "    }\n",
       "</style>\n",
       "<table border=\"1\" class=\"dataframe\">\n",
       "  <thead>\n",
       "    <tr style=\"text-align: right;\">\n",
       "      <th></th>\n",
       "      <th>count</th>\n",
       "      <th>unique</th>\n",
       "      <th>top</th>\n",
       "      <th>freq</th>\n",
       "    </tr>\n",
       "  </thead>\n",
       "  <tbody>\n",
       "    <tr>\n",
       "      <td>PERSON_ID</td>\n",
       "      <td>783816</td>\n",
       "      <td>783816</td>\n",
       "      <td>O605983</td>\n",
       "      <td>1</td>\n",
       "    </tr>\n",
       "    <tr>\n",
       "      <td>PERSON_TYPE</td>\n",
       "      <td>783816</td>\n",
       "      <td>6</td>\n",
       "      <td>DRIVER</td>\n",
       "      <td>615209</td>\n",
       "    </tr>\n",
       "    <tr>\n",
       "      <td>RD_NO</td>\n",
       "      <td>783816</td>\n",
       "      <td>357877</td>\n",
       "      <td>JB187770</td>\n",
       "      <td>61</td>\n",
       "    </tr>\n",
       "    <tr>\n",
       "      <td>CRASH_DATE</td>\n",
       "      <td>783816</td>\n",
       "      <td>229497</td>\n",
       "      <td>11/10/2017 10:30:00 AM</td>\n",
       "      <td>64</td>\n",
       "    </tr>\n",
       "    <tr>\n",
       "      <td>CITY</td>\n",
       "      <td>585027</td>\n",
       "      <td>8453</td>\n",
       "      <td>CHICAGO</td>\n",
       "      <td>410601</td>\n",
       "    </tr>\n",
       "    <tr>\n",
       "      <td>STATE</td>\n",
       "      <td>589541</td>\n",
       "      <td>52</td>\n",
       "      <td>IL</td>\n",
       "      <td>558262</td>\n",
       "    </tr>\n",
       "    <tr>\n",
       "      <td>ZIPCODE</td>\n",
       "      <td>536370</td>\n",
       "      <td>9395</td>\n",
       "      <td>60629</td>\n",
       "      <td>19219</td>\n",
       "    </tr>\n",
       "    <tr>\n",
       "      <td>SEX</td>\n",
       "      <td>773346</td>\n",
       "      <td>4</td>\n",
       "      <td>M</td>\n",
       "      <td>410832</td>\n",
       "    </tr>\n",
       "    <tr>\n",
       "      <td>DRIVERS_LICENSE_STATE</td>\n",
       "      <td>473191</td>\n",
       "      <td>171</td>\n",
       "      <td>IL</td>\n",
       "      <td>436438</td>\n",
       "    </tr>\n",
       "    <tr>\n",
       "      <td>DRIVERS_LICENSE_CLASS</td>\n",
       "      <td>417338</td>\n",
       "      <td>215</td>\n",
       "      <td>D</td>\n",
       "      <td>363711</td>\n",
       "    </tr>\n",
       "    <tr>\n",
       "      <td>SAFETY_EQUIPMENT</td>\n",
       "      <td>781740</td>\n",
       "      <td>19</td>\n",
       "      <td>SAFETY BELT USED</td>\n",
       "      <td>407683</td>\n",
       "    </tr>\n",
       "    <tr>\n",
       "      <td>AIRBAG_DEPLOYED</td>\n",
       "      <td>769044</td>\n",
       "      <td>7</td>\n",
       "      <td>DID NOT DEPLOY</td>\n",
       "      <td>500108</td>\n",
       "    </tr>\n",
       "    <tr>\n",
       "      <td>EJECTION</td>\n",
       "      <td>774442</td>\n",
       "      <td>5</td>\n",
       "      <td>NONE</td>\n",
       "      <td>727587</td>\n",
       "    </tr>\n",
       "    <tr>\n",
       "      <td>INJURY_CLASSIFICATION</td>\n",
       "      <td>783480</td>\n",
       "      <td>5</td>\n",
       "      <td>NO INDICATION OF INJURY</td>\n",
       "      <td>725254</td>\n",
       "    </tr>\n",
       "    <tr>\n",
       "      <td>HOSPITAL</td>\n",
       "      <td>142507</td>\n",
       "      <td>3893</td>\n",
       "      <td>REFUSED</td>\n",
       "      <td>47440</td>\n",
       "    </tr>\n",
       "    <tr>\n",
       "      <td>EMS_AGENCY</td>\n",
       "      <td>91779</td>\n",
       "      <td>4981</td>\n",
       "      <td>DNA</td>\n",
       "      <td>20136</td>\n",
       "    </tr>\n",
       "    <tr>\n",
       "      <td>EMS_RUN_NO</td>\n",
       "      <td>14136</td>\n",
       "      <td>733</td>\n",
       "      <td>DNA</td>\n",
       "      <td>2890</td>\n",
       "    </tr>\n",
       "    <tr>\n",
       "      <td>DRIVER_ACTION</td>\n",
       "      <td>628974</td>\n",
       "      <td>20</td>\n",
       "      <td>NONE</td>\n",
       "      <td>234752</td>\n",
       "    </tr>\n",
       "    <tr>\n",
       "      <td>DRIVER_VISION</td>\n",
       "      <td>628802</td>\n",
       "      <td>14</td>\n",
       "      <td>NOT OBSCURED</td>\n",
       "      <td>358061</td>\n",
       "    </tr>\n",
       "    <tr>\n",
       "      <td>PHYSICAL_CONDITION</td>\n",
       "      <td>629406</td>\n",
       "      <td>12</td>\n",
       "      <td>NORMAL</td>\n",
       "      <td>429036</td>\n",
       "    </tr>\n",
       "    <tr>\n",
       "      <td>PEDPEDAL_ACTION</td>\n",
       "      <td>14604</td>\n",
       "      <td>23</td>\n",
       "      <td>CROSSING - WITH SIGNAL</td>\n",
       "      <td>3083</td>\n",
       "    </tr>\n",
       "    <tr>\n",
       "      <td>PEDPEDAL_VISIBILITY</td>\n",
       "      <td>14565</td>\n",
       "      <td>4</td>\n",
       "      <td>NO CONTRASTING CLOTHING</td>\n",
       "      <td>11536</td>\n",
       "    </tr>\n",
       "    <tr>\n",
       "      <td>PEDPEDAL_LOCATION</td>\n",
       "      <td>14603</td>\n",
       "      <td>8</td>\n",
       "      <td>IN ROADWAY</td>\n",
       "      <td>6873</td>\n",
       "    </tr>\n",
       "    <tr>\n",
       "      <td>BAC_RESULT</td>\n",
       "      <td>630034</td>\n",
       "      <td>4</td>\n",
       "      <td>TEST NOT OFFERED</td>\n",
       "      <td>621048</td>\n",
       "    </tr>\n",
       "    <tr>\n",
       "      <td>CELL_PHONE_USE</td>\n",
       "      <td>1144</td>\n",
       "      <td>2</td>\n",
       "      <td>Y</td>\n",
       "      <td>745</td>\n",
       "    </tr>\n",
       "  </tbody>\n",
       "</table>\n",
       "</div>"
      ],
      "text/plain": [
       "                        count  unique                      top    freq\n",
       "PERSON_ID              783816  783816                  O605983       1\n",
       "PERSON_TYPE            783816       6                   DRIVER  615209\n",
       "RD_NO                  783816  357877                 JB187770      61\n",
       "CRASH_DATE             783816  229497   11/10/2017 10:30:00 AM      64\n",
       "CITY                   585027    8453                  CHICAGO  410601\n",
       "STATE                  589541      52                       IL  558262\n",
       "ZIPCODE                536370    9395                    60629   19219\n",
       "SEX                    773346       4                        M  410832\n",
       "DRIVERS_LICENSE_STATE  473191     171                       IL  436438\n",
       "DRIVERS_LICENSE_CLASS  417338     215                        D  363711\n",
       "SAFETY_EQUIPMENT       781740      19         SAFETY BELT USED  407683\n",
       "AIRBAG_DEPLOYED        769044       7           DID NOT DEPLOY  500108\n",
       "EJECTION               774442       5                     NONE  727587\n",
       "INJURY_CLASSIFICATION  783480       5  NO INDICATION OF INJURY  725254\n",
       "HOSPITAL               142507    3893                  REFUSED   47440\n",
       "EMS_AGENCY              91779    4981                      DNA   20136\n",
       "EMS_RUN_NO              14136     733                      DNA    2890\n",
       "DRIVER_ACTION          628974      20                     NONE  234752\n",
       "DRIVER_VISION          628802      14             NOT OBSCURED  358061\n",
       "PHYSICAL_CONDITION     629406      12                   NORMAL  429036\n",
       "PEDPEDAL_ACTION         14604      23   CROSSING - WITH SIGNAL    3083\n",
       "PEDPEDAL_VISIBILITY     14565       4  NO CONTRASTING CLOTHING   11536\n",
       "PEDPEDAL_LOCATION       14603       8               IN ROADWAY    6873\n",
       "BAC_RESULT             630034       4         TEST NOT OFFERED  621048\n",
       "CELL_PHONE_USE           1144       2                        Y     745"
      ]
     },
     "execution_count": 4,
     "metadata": {},
     "output_type": "execute_result"
    }
   ],
   "source": [
    "people.describe(include = object).T"
   ]
  },
  {
   "cell_type": "code",
   "execution_count": 5,
   "metadata": {},
   "outputs": [
    {
     "data": {
      "text/plain": [
       "336"
      ]
     },
     "execution_count": 5,
     "metadata": {},
     "output_type": "execute_result"
    }
   ],
   "source": [
    "people['INJURY_CLASSIFICATION'].isnull().sum()"
   ]
  },
  {
   "cell_type": "code",
   "execution_count": 6,
   "metadata": {},
   "outputs": [],
   "source": [
    "people = people.dropna(subset=['INJURY_CLASSIFICATION'])"
   ]
  },
  {
   "cell_type": "code",
   "execution_count": 7,
   "metadata": {},
   "outputs": [
    {
     "data": {
      "text/plain": [
       "NO INDICATION OF INJURY     0.925683\n",
       "NONINCAPACITATING INJURY    0.040472\n",
       "REPORTED, NOT EVIDENT       0.025410\n",
       "INCAPACITATING INJURY       0.008032\n",
       "FATAL                       0.000403\n",
       "Name: INJURY_CLASSIFICATION, dtype: float64"
      ]
     },
     "execution_count": 7,
     "metadata": {},
     "output_type": "execute_result"
    }
   ],
   "source": [
    "people['INJURY_CLASSIFICATION'].value_counts(normalize = True)"
   ]
  },
  {
   "cell_type": "code",
   "execution_count": 8,
   "metadata": {},
   "outputs": [
    {
     "data": {
      "text/plain": [
       "NO INDICATION OF INJURY     725254\n",
       "NONINCAPACITATING INJURY     31709\n",
       "REPORTED, NOT EVIDENT        19908\n",
       "INCAPACITATING INJURY         6293\n",
       "FATAL                          316\n",
       "Name: INJURY_CLASSIFICATION, dtype: int64"
      ]
     },
     "execution_count": 8,
     "metadata": {},
     "output_type": "execute_result"
    }
   ],
   "source": [
    "people['INJURY_CLASSIFICATION'].value_counts()"
   ]
  },
  {
   "cell_type": "code",
   "execution_count": 9,
   "metadata": {},
   "outputs": [
    {
     "data": {
      "text/plain": [
       "((626784, 28), (156696, 28), (626784,), (156696,))"
      ]
     },
     "execution_count": 9,
     "metadata": {},
     "output_type": "execute_result"
    }
   ],
   "source": [
    "X_train, X_test, y_train, y_test = train_test_split(people.drop(['INJURY_CLASSIFICATION'], axis = 1), \n",
    "                                                    people['INJURY_CLASSIFICATION'], test_size=0.20)\n",
    "X_train.shape, X_test.shape, y_train.shape, y_test.shape"
   ]
  },
  {
   "cell_type": "code",
   "execution_count": 10,
   "metadata": {},
   "outputs": [],
   "source": [
    "pipeline = make_pipeline(\n",
    "    ce.OrdinalEncoder(),\n",
    "    SimpleImputer(),\n",
    "    RandomForestClassifier()\n",
    ")"
   ]
  },
  {
   "cell_type": "code",
   "execution_count": 11,
   "metadata": {},
   "outputs": [],
   "source": [
    "# pipeline.fit(X_train, y_train)\n",
    "# cross_val_score(pipeline, X_train, y_train, scoring='accuracy', cv=5)"
   ]
  },
  {
   "cell_type": "code",
   "execution_count": 12,
   "metadata": {},
   "outputs": [],
   "source": [
    "# y_pred = pipeline.predict(X_test)\n",
    "# print(classification_report(y_test, y_pred))"
   ]
  },
  {
   "cell_type": "code",
   "execution_count": 13,
   "metadata": {},
   "outputs": [],
   "source": [
    "# pipeline = make_pipeline(\n",
    "#     ce.OrdinalEncoder(),\n",
    "#     SimpleImputer(),\n",
    "#     LogisticRegressionCV(solver='lbfgs', cv=5, n_jobs=-1)    \n",
    "# )"
   ]
  },
  {
   "cell_type": "code",
   "execution_count": 14,
   "metadata": {},
   "outputs": [],
   "source": [
    "# pipeline.fit(X_train, y_train)\n",
    "# pipeline.score(X_test, y_test)"
   ]
  },
  {
   "cell_type": "code",
   "execution_count": 15,
   "metadata": {
    "scrolled": true
   },
   "outputs": [],
   "source": [
    "# y_pred = pipeline.predict(X_test)\n",
    "# print(classification_report(y_test, y_pred))"
   ]
  },
  {
   "cell_type": "code",
   "execution_count": 18,
   "metadata": {},
   "outputs": [
    {
     "name": "stdout",
     "output_type": "stream",
     "text": [
      "Fitting 3 folds for each of 2 candidates, totalling 6 fits\n"
     ]
    },
    {
     "name": "stderr",
     "output_type": "stream",
     "text": [
      "[Parallel(n_jobs=-2)]: Using backend LokyBackend with 3 concurrent workers.\n",
      "[Parallel(n_jobs=-2)]: Done   2 out of   6 | elapsed:  7.2min remaining: 14.3min\n",
      "[Parallel(n_jobs=-2)]: Done   3 out of   6 | elapsed:  7.2min remaining:  7.2min\n",
      "[Parallel(n_jobs=-2)]: Done   4 out of   6 | elapsed:  8.9min remaining:  4.5min\n",
      "[Parallel(n_jobs=-2)]: Done   6 out of   6 | elapsed:  9.1min remaining:    0.0s\n",
      "[Parallel(n_jobs=-2)]: Done   6 out of   6 | elapsed:  9.1min finished\n"
     ]
    },
    {
     "data": {
      "text/plain": [
       "RandomizedSearchCV(cv=3, error_score='raise-deprecating',\n",
       "                   estimator=Pipeline(memory=None,\n",
       "                                      steps=[('ordinalencoder',\n",
       "                                              OrdinalEncoder(cols=None,\n",
       "                                                             drop_invariant=False,\n",
       "                                                             handle_missing='value',\n",
       "                                                             handle_unknown='value',\n",
       "                                                             mapping=None,\n",
       "                                                             return_df=True,\n",
       "                                                             verbose=0)),\n",
       "                                             ('simpleimputer',\n",
       "                                              SimpleImputer(add_indicator=False,\n",
       "                                                            copy=True,\n",
       "                                                            fill_value=None,\n",
       "                                                            missing_values=nan,\n",
       "                                                            strategy='...\n",
       "                                        'randomforestclassifier__max_features': <scipy.stats._distn_infrastructure.rv_frozen object at 0x0000021F2540CA08>,\n",
       "                                        'randomforestclassifier__min_samples_leaf': [1,\n",
       "                                                                                     10],\n",
       "                                        'randomforestclassifier__n_estimators': range(10, 100)},\n",
       "                   pre_dispatch='2*n_jobs', random_state=None, refit=True,\n",
       "                   return_train_score=True,\n",
       "                   scoring=make_scorer(recall_score, average=macro, labels=['FATAL', 'INCAPACITATING INJURY']),\n",
       "                   verbose=10)"
      ]
     },
     "execution_count": 18,
     "metadata": {},
     "output_type": "execute_result"
    }
   ],
   "source": [
    "from scipy.stats import uniform\n",
    "\n",
    "param_distributions = {\n",
    "    'randomforestclassifier__n_estimators': range(10, 100), \n",
    "    'randomforestclassifier__max_depth': [5, 10, 15, 20], \n",
    "    'randomforestclassifier__max_features': uniform(0, 1), \n",
    "    'randomforestclassifier__min_samples_leaf': [1, 10], \n",
    "}\n",
    "\n",
    "search = RandomizedSearchCV(\n",
    "    pipeline, \n",
    "    param_distributions = param_distributions, \n",
    "    n_iter = 2, \n",
    "    cv = 3, \n",
    "    scoring = make_scorer(recall_score, average = 'macro', labels = ['FATAL', 'INCAPACITATING INJURY']),\n",
    "    verbose = 10, \n",
    "    return_train_score = True, \n",
    "    n_jobs = -2\n",
    ")\n",
    "\n",
    "search.fit(X_train, y_train)"
   ]
  },
  {
   "cell_type": "code",
   "execution_count": 19,
   "metadata": {},
   "outputs": [
    {
     "name": "stdout",
     "output_type": "stream",
     "text": [
      "{'randomforestclassifier__max_depth': 15, 'randomforestclassifier__max_features': 0.7172893505680213, 'randomforestclassifier__min_samples_leaf': 10, 'randomforestclassifier__n_estimators': 82}\n",
      "0.02420429745246174\n"
     ]
    }
   ],
   "source": [
    "print(search.best_params_)\n",
    "print(search.best_score_)"
   ]
  },
  {
   "cell_type": "code",
   "execution_count": 20,
   "metadata": {},
   "outputs": [
    {
     "data": {
      "text/html": [
       "<div>\n",
       "<style scoped>\n",
       "    .dataframe tbody tr th:only-of-type {\n",
       "        vertical-align: middle;\n",
       "    }\n",
       "\n",
       "    .dataframe tbody tr th {\n",
       "        vertical-align: top;\n",
       "    }\n",
       "\n",
       "    .dataframe thead th {\n",
       "        text-align: right;\n",
       "    }\n",
       "</style>\n",
       "<table border=\"1\" class=\"dataframe\">\n",
       "  <thead>\n",
       "    <tr style=\"text-align: right;\">\n",
       "      <th></th>\n",
       "      <th>0</th>\n",
       "      <th>1</th>\n",
       "    </tr>\n",
       "  </thead>\n",
       "  <tbody>\n",
       "    <tr>\n",
       "      <td>mean_fit_time</td>\n",
       "      <td>392.065</td>\n",
       "      <td>96.7675</td>\n",
       "    </tr>\n",
       "    <tr>\n",
       "      <td>std_fit_time</td>\n",
       "      <td>6.5434</td>\n",
       "      <td>0.659925</td>\n",
       "    </tr>\n",
       "    <tr>\n",
       "      <td>mean_score_time</td>\n",
       "      <td>8.14121</td>\n",
       "      <td>5.99835</td>\n",
       "    </tr>\n",
       "    <tr>\n",
       "      <td>std_score_time</td>\n",
       "      <td>0.22891</td>\n",
       "      <td>0.119269</td>\n",
       "    </tr>\n",
       "    <tr>\n",
       "      <td>param_randomforestclassifier__max_depth</td>\n",
       "      <td>15</td>\n",
       "      <td>5</td>\n",
       "    </tr>\n",
       "    <tr>\n",
       "      <td>param_randomforestclassifier__max_features</td>\n",
       "      <td>0.717289</td>\n",
       "      <td>0.605028</td>\n",
       "    </tr>\n",
       "    <tr>\n",
       "      <td>param_randomforestclassifier__min_samples_leaf</td>\n",
       "      <td>10</td>\n",
       "      <td>1</td>\n",
       "    </tr>\n",
       "    <tr>\n",
       "      <td>param_randomforestclassifier__n_estimators</td>\n",
       "      <td>82</td>\n",
       "      <td>57</td>\n",
       "    </tr>\n",
       "    <tr>\n",
       "      <td>params</td>\n",
       "      <td>{'randomforestclassifier__max_depth': 15, 'ran...</td>\n",
       "      <td>{'randomforestclassifier__max_depth': 5, 'rand...</td>\n",
       "    </tr>\n",
       "    <tr>\n",
       "      <td>split0_test_score</td>\n",
       "      <td>0.0185185</td>\n",
       "      <td>0.00268817</td>\n",
       "    </tr>\n",
       "    <tr>\n",
       "      <td>split1_test_score</td>\n",
       "      <td>0.0215182</td>\n",
       "      <td>0</td>\n",
       "    </tr>\n",
       "    <tr>\n",
       "      <td>split2_test_score</td>\n",
       "      <td>0.0325762</td>\n",
       "      <td>0</td>\n",
       "    </tr>\n",
       "    <tr>\n",
       "      <td>mean_test_score</td>\n",
       "      <td>0.0242043</td>\n",
       "      <td>0.000896062</td>\n",
       "    </tr>\n",
       "    <tr>\n",
       "      <td>std_test_score</td>\n",
       "      <td>0.00604516</td>\n",
       "      <td>0.00126722</td>\n",
       "    </tr>\n",
       "    <tr>\n",
       "      <td>rank_test_score</td>\n",
       "      <td>1</td>\n",
       "      <td>2</td>\n",
       "    </tr>\n",
       "    <tr>\n",
       "      <td>split0_train_score</td>\n",
       "      <td>0.0472206</td>\n",
       "      <td>0.00343694</td>\n",
       "    </tr>\n",
       "    <tr>\n",
       "      <td>split1_train_score</td>\n",
       "      <td>0.0340604</td>\n",
       "      <td>0</td>\n",
       "    </tr>\n",
       "    <tr>\n",
       "      <td>split2_train_score</td>\n",
       "      <td>0.0395877</td>\n",
       "      <td>0</td>\n",
       "    </tr>\n",
       "    <tr>\n",
       "      <td>mean_train_score</td>\n",
       "      <td>0.0402895</td>\n",
       "      <td>0.00114565</td>\n",
       "    </tr>\n",
       "    <tr>\n",
       "      <td>std_train_score</td>\n",
       "      <td>0.00539551</td>\n",
       "      <td>0.00162019</td>\n",
       "    </tr>\n",
       "  </tbody>\n",
       "</table>\n",
       "</div>"
      ],
      "text/plain": [
       "                                                                                                0  \\\n",
       "mean_fit_time                                                                             392.065   \n",
       "std_fit_time                                                                               6.5434   \n",
       "mean_score_time                                                                           8.14121   \n",
       "std_score_time                                                                            0.22891   \n",
       "param_randomforestclassifier__max_depth                                                        15   \n",
       "param_randomforestclassifier__max_features                                               0.717289   \n",
       "param_randomforestclassifier__min_samples_leaf                                                 10   \n",
       "param_randomforestclassifier__n_estimators                                                     82   \n",
       "params                                          {'randomforestclassifier__max_depth': 15, 'ran...   \n",
       "split0_test_score                                                                       0.0185185   \n",
       "split1_test_score                                                                       0.0215182   \n",
       "split2_test_score                                                                       0.0325762   \n",
       "mean_test_score                                                                         0.0242043   \n",
       "std_test_score                                                                         0.00604516   \n",
       "rank_test_score                                                                                 1   \n",
       "split0_train_score                                                                      0.0472206   \n",
       "split1_train_score                                                                      0.0340604   \n",
       "split2_train_score                                                                      0.0395877   \n",
       "mean_train_score                                                                        0.0402895   \n",
       "std_train_score                                                                        0.00539551   \n",
       "\n",
       "                                                                                                1  \n",
       "mean_fit_time                                                                             96.7675  \n",
       "std_fit_time                                                                             0.659925  \n",
       "mean_score_time                                                                           5.99835  \n",
       "std_score_time                                                                           0.119269  \n",
       "param_randomforestclassifier__max_depth                                                         5  \n",
       "param_randomforestclassifier__max_features                                               0.605028  \n",
       "param_randomforestclassifier__min_samples_leaf                                                  1  \n",
       "param_randomforestclassifier__n_estimators                                                     57  \n",
       "params                                          {'randomforestclassifier__max_depth': 5, 'rand...  \n",
       "split0_test_score                                                                      0.00268817  \n",
       "split1_test_score                                                                               0  \n",
       "split2_test_score                                                                               0  \n",
       "mean_test_score                                                                       0.000896062  \n",
       "std_test_score                                                                         0.00126722  \n",
       "rank_test_score                                                                                 2  \n",
       "split0_train_score                                                                     0.00343694  \n",
       "split1_train_score                                                                              0  \n",
       "split2_train_score                                                                              0  \n",
       "mean_train_score                                                                       0.00114565  \n",
       "std_train_score                                                                        0.00162019  "
      ]
     },
     "execution_count": 20,
     "metadata": {},
     "output_type": "execute_result"
    }
   ],
   "source": [
    "pd.DataFrame(search.cv_results_).sort_values(by='rank_test_score').T"
   ]
  },
  {
   "cell_type": "code",
   "execution_count": 21,
   "metadata": {},
   "outputs": [],
   "source": [
    "final = search.best_estimator_\n",
    "y_pred = best.predict(X_test)"
   ]
  },
  {
   "cell_type": "code",
   "execution_count": 22,
   "metadata": {},
   "outputs": [
    {
     "name": "stderr",
     "output_type": "stream",
     "text": [
      "C:\\Users\\Westopher\\Coding\\Anaconda3\\lib\\site-packages\\sklearn\\metrics\\classification.py:1437: UndefinedMetricWarning: Precision and F-score are ill-defined and being set to 0.0 in labels with no predicted samples.\n",
      "  'precision', 'predicted', average, warn_for)\n"
     ]
    },
    {
     "name": "stdout",
     "output_type": "stream",
     "text": [
      "                          precision    recall  f1-score   support\n",
      "\n",
      "                   FATAL       0.00      0.00      0.00        55\n",
      "   INCAPACITATING INJURY       0.40      0.03      0.05      1273\n",
      " NO INDICATION OF INJURY       0.97      0.99      0.98    145088\n",
      "NONINCAPACITATING INJURY       0.58      0.65      0.61      6341\n",
      "   REPORTED, NOT EVIDENT       0.39      0.01      0.01      3939\n",
      "\n",
      "                accuracy                           0.95    156696\n",
      "               macro avg       0.47      0.33      0.33    156696\n",
      "            weighted avg       0.93      0.95      0.93    156696\n",
      "\n"
     ]
    }
   ],
   "source": [
    "print(classification_report(y_test, y_pred))"
   ]
  },
  {
   "cell_type": "code",
   "execution_count": null,
   "metadata": {},
   "outputs": [],
   "source": []
  }
 ],
 "metadata": {
  "kernelspec": {
   "display_name": "Python 3",
   "language": "python",
   "name": "python3"
  },
  "language_info": {
   "codemirror_mode": {
    "name": "ipython",
    "version": 3
   },
   "file_extension": ".py",
   "mimetype": "text/x-python",
   "name": "python",
   "nbconvert_exporter": "python",
   "pygments_lexer": "ipython3",
   "version": "3.7.4"
  }
 },
 "nbformat": 4,
 "nbformat_minor": 2
}
