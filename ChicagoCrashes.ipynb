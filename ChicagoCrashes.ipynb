{
 "cells": [
  {
   "cell_type": "code",
   "execution_count": 18,
   "metadata": {},
   "outputs": [],
   "source": [
    "import numpy as np\n",
    "import pandas as pd\n",
    "\n",
    "from sklearn.model_selection import train_test_split\n",
    "from sklearn.model_selection import cross_val_score\n",
    "import category_encoders as ce\n",
    "from sklearn.impute import SimpleImputer\n",
    "from sklearn.pipeline import make_pipeline\n",
    "from sklearn.ensemble import RandomForestClassifier\n",
    "from sklearn.dummy import DummyClassifier\n",
    "from sklearn.metrics import roc_auc_score\n",
    "from sklearn.metrics import accuracy_score"
   ]
  },
  {
   "cell_type": "code",
   "execution_count": 8,
   "metadata": {},
   "outputs": [
    {
     "name": "stderr",
     "output_type": "stream",
     "text": [
      "C:\\Users\\Westopher\\Coding\\Anaconda3\\lib\\site-packages\\IPython\\core\\interactiveshell.py:3058: DtypeWarning: Columns (11,12,19,20,21,22,23,24,25,26,28) have mixed types. Specify dtype option on import or set low_memory=False.\n",
      "  interactivity=interactivity, compiler=compiler, result=result)\n"
     ]
    }
   ],
   "source": [
    "people = pd.read_csv('../DS-Unit-2-4-Build-Week/people.csv')"
   ]
  },
  {
   "cell_type": "code",
   "execution_count": 9,
   "metadata": {},
   "outputs": [
    {
     "data": {
      "text/html": [
       "<div>\n",
       "<style scoped>\n",
       "    .dataframe tbody tr th:only-of-type {\n",
       "        vertical-align: middle;\n",
       "    }\n",
       "\n",
       "    .dataframe tbody tr th {\n",
       "        vertical-align: top;\n",
       "    }\n",
       "\n",
       "    .dataframe thead th {\n",
       "        text-align: right;\n",
       "    }\n",
       "</style>\n",
       "<table border=\"1\" class=\"dataframe\">\n",
       "  <thead>\n",
       "    <tr style=\"text-align: right;\">\n",
       "      <th></th>\n",
       "      <th>count</th>\n",
       "      <th>mean</th>\n",
       "      <th>std</th>\n",
       "      <th>min</th>\n",
       "      <th>25%</th>\n",
       "      <th>50%</th>\n",
       "      <th>75%</th>\n",
       "      <th>max</th>\n",
       "    </tr>\n",
       "  </thead>\n",
       "  <tbody>\n",
       "    <tr>\n",
       "      <td>VEHICLE_ID</td>\n",
       "      <td>768713.0</td>\n",
       "      <td>372184.236701</td>\n",
       "      <td>214710.997314</td>\n",
       "      <td>2.0</td>\n",
       "      <td>187073.00</td>\n",
       "      <td>371645.00</td>\n",
       "      <td>557891.00</td>\n",
       "      <td>744984.00</td>\n",
       "    </tr>\n",
       "    <tr>\n",
       "      <td>SEAT_NO</td>\n",
       "      <td>153425.0</td>\n",
       "      <td>4.208121</td>\n",
       "      <td>2.169906</td>\n",
       "      <td>1.0</td>\n",
       "      <td>3.00</td>\n",
       "      <td>3.00</td>\n",
       "      <td>6.00</td>\n",
       "      <td>12.00</td>\n",
       "    </tr>\n",
       "    <tr>\n",
       "      <td>AGE</td>\n",
       "      <td>564067.0</td>\n",
       "      <td>38.063264</td>\n",
       "      <td>17.099626</td>\n",
       "      <td>-49.0</td>\n",
       "      <td>26.00</td>\n",
       "      <td>36.00</td>\n",
       "      <td>50.00</td>\n",
       "      <td>110.00</td>\n",
       "    </tr>\n",
       "    <tr>\n",
       "      <td>BAC_RESULT VALUE</td>\n",
       "      <td>952.0</td>\n",
       "      <td>0.172027</td>\n",
       "      <td>0.098773</td>\n",
       "      <td>0.0</td>\n",
       "      <td>0.13</td>\n",
       "      <td>0.17</td>\n",
       "      <td>0.22</td>\n",
       "      <td>0.99</td>\n",
       "    </tr>\n",
       "  </tbody>\n",
       "</table>\n",
       "</div>"
      ],
      "text/plain": [
       "                     count           mean            std   min        25%  \\\n",
       "VEHICLE_ID        768713.0  372184.236701  214710.997314   2.0  187073.00   \n",
       "SEAT_NO           153425.0       4.208121       2.169906   1.0       3.00   \n",
       "AGE               564067.0      38.063264      17.099626 -49.0      26.00   \n",
       "BAC_RESULT VALUE     952.0       0.172027       0.098773   0.0       0.13   \n",
       "\n",
       "                        50%        75%        max  \n",
       "VEHICLE_ID        371645.00  557891.00  744984.00  \n",
       "SEAT_NO                3.00       6.00      12.00  \n",
       "AGE                   36.00      50.00     110.00  \n",
       "BAC_RESULT VALUE       0.17       0.22       0.99  "
      ]
     },
     "execution_count": 9,
     "metadata": {},
     "output_type": "execute_result"
    }
   ],
   "source": [
    "people.describe().T"
   ]
  },
  {
   "cell_type": "code",
   "execution_count": 10,
   "metadata": {},
   "outputs": [
    {
     "data": {
      "text/html": [
       "<div>\n",
       "<style scoped>\n",
       "    .dataframe tbody tr th:only-of-type {\n",
       "        vertical-align: middle;\n",
       "    }\n",
       "\n",
       "    .dataframe tbody tr th {\n",
       "        vertical-align: top;\n",
       "    }\n",
       "\n",
       "    .dataframe thead th {\n",
       "        text-align: right;\n",
       "    }\n",
       "</style>\n",
       "<table border=\"1\" class=\"dataframe\">\n",
       "  <thead>\n",
       "    <tr style=\"text-align: right;\">\n",
       "      <th></th>\n",
       "      <th>count</th>\n",
       "      <th>unique</th>\n",
       "      <th>top</th>\n",
       "      <th>freq</th>\n",
       "    </tr>\n",
       "  </thead>\n",
       "  <tbody>\n",
       "    <tr>\n",
       "      <td>PERSON_ID</td>\n",
       "      <td>783816</td>\n",
       "      <td>783816</td>\n",
       "      <td>O409908</td>\n",
       "      <td>1</td>\n",
       "    </tr>\n",
       "    <tr>\n",
       "      <td>PERSON_TYPE</td>\n",
       "      <td>783816</td>\n",
       "      <td>6</td>\n",
       "      <td>DRIVER</td>\n",
       "      <td>615209</td>\n",
       "    </tr>\n",
       "    <tr>\n",
       "      <td>RD_NO</td>\n",
       "      <td>783816</td>\n",
       "      <td>357877</td>\n",
       "      <td>JB187770</td>\n",
       "      <td>61</td>\n",
       "    </tr>\n",
       "    <tr>\n",
       "      <td>CRASH_DATE</td>\n",
       "      <td>783816</td>\n",
       "      <td>229497</td>\n",
       "      <td>11/10/2017 10:30:00 AM</td>\n",
       "      <td>64</td>\n",
       "    </tr>\n",
       "    <tr>\n",
       "      <td>CITY</td>\n",
       "      <td>585027</td>\n",
       "      <td>8453</td>\n",
       "      <td>CHICAGO</td>\n",
       "      <td>410601</td>\n",
       "    </tr>\n",
       "    <tr>\n",
       "      <td>STATE</td>\n",
       "      <td>589541</td>\n",
       "      <td>52</td>\n",
       "      <td>IL</td>\n",
       "      <td>558262</td>\n",
       "    </tr>\n",
       "    <tr>\n",
       "      <td>ZIPCODE</td>\n",
       "      <td>536370</td>\n",
       "      <td>9395</td>\n",
       "      <td>60629</td>\n",
       "      <td>19219</td>\n",
       "    </tr>\n",
       "    <tr>\n",
       "      <td>SEX</td>\n",
       "      <td>773346</td>\n",
       "      <td>4</td>\n",
       "      <td>M</td>\n",
       "      <td>410832</td>\n",
       "    </tr>\n",
       "    <tr>\n",
       "      <td>DRIVERS_LICENSE_STATE</td>\n",
       "      <td>473191</td>\n",
       "      <td>171</td>\n",
       "      <td>IL</td>\n",
       "      <td>436438</td>\n",
       "    </tr>\n",
       "    <tr>\n",
       "      <td>DRIVERS_LICENSE_CLASS</td>\n",
       "      <td>417338</td>\n",
       "      <td>215</td>\n",
       "      <td>D</td>\n",
       "      <td>363711</td>\n",
       "    </tr>\n",
       "    <tr>\n",
       "      <td>SAFETY_EQUIPMENT</td>\n",
       "      <td>781740</td>\n",
       "      <td>19</td>\n",
       "      <td>SAFETY BELT USED</td>\n",
       "      <td>407683</td>\n",
       "    </tr>\n",
       "    <tr>\n",
       "      <td>AIRBAG_DEPLOYED</td>\n",
       "      <td>769044</td>\n",
       "      <td>7</td>\n",
       "      <td>DID NOT DEPLOY</td>\n",
       "      <td>500108</td>\n",
       "    </tr>\n",
       "    <tr>\n",
       "      <td>EJECTION</td>\n",
       "      <td>774442</td>\n",
       "      <td>5</td>\n",
       "      <td>NONE</td>\n",
       "      <td>727587</td>\n",
       "    </tr>\n",
       "    <tr>\n",
       "      <td>INJURY_CLASSIFICATION</td>\n",
       "      <td>783480</td>\n",
       "      <td>5</td>\n",
       "      <td>NO INDICATION OF INJURY</td>\n",
       "      <td>725254</td>\n",
       "    </tr>\n",
       "    <tr>\n",
       "      <td>HOSPITAL</td>\n",
       "      <td>142507</td>\n",
       "      <td>3893</td>\n",
       "      <td>REFUSED</td>\n",
       "      <td>47440</td>\n",
       "    </tr>\n",
       "    <tr>\n",
       "      <td>EMS_AGENCY</td>\n",
       "      <td>91779</td>\n",
       "      <td>4981</td>\n",
       "      <td>DNA</td>\n",
       "      <td>20136</td>\n",
       "    </tr>\n",
       "    <tr>\n",
       "      <td>EMS_RUN_NO</td>\n",
       "      <td>14136</td>\n",
       "      <td>733</td>\n",
       "      <td>DNA</td>\n",
       "      <td>2890</td>\n",
       "    </tr>\n",
       "    <tr>\n",
       "      <td>DRIVER_ACTION</td>\n",
       "      <td>628974</td>\n",
       "      <td>20</td>\n",
       "      <td>NONE</td>\n",
       "      <td>234752</td>\n",
       "    </tr>\n",
       "    <tr>\n",
       "      <td>DRIVER_VISION</td>\n",
       "      <td>628802</td>\n",
       "      <td>14</td>\n",
       "      <td>NOT OBSCURED</td>\n",
       "      <td>358061</td>\n",
       "    </tr>\n",
       "    <tr>\n",
       "      <td>PHYSICAL_CONDITION</td>\n",
       "      <td>629406</td>\n",
       "      <td>12</td>\n",
       "      <td>NORMAL</td>\n",
       "      <td>429036</td>\n",
       "    </tr>\n",
       "    <tr>\n",
       "      <td>PEDPEDAL_ACTION</td>\n",
       "      <td>14604</td>\n",
       "      <td>23</td>\n",
       "      <td>CROSSING - WITH SIGNAL</td>\n",
       "      <td>3083</td>\n",
       "    </tr>\n",
       "    <tr>\n",
       "      <td>PEDPEDAL_VISIBILITY</td>\n",
       "      <td>14565</td>\n",
       "      <td>4</td>\n",
       "      <td>NO CONTRASTING CLOTHING</td>\n",
       "      <td>11536</td>\n",
       "    </tr>\n",
       "    <tr>\n",
       "      <td>PEDPEDAL_LOCATION</td>\n",
       "      <td>14603</td>\n",
       "      <td>8</td>\n",
       "      <td>IN ROADWAY</td>\n",
       "      <td>6873</td>\n",
       "    </tr>\n",
       "    <tr>\n",
       "      <td>BAC_RESULT</td>\n",
       "      <td>630034</td>\n",
       "      <td>4</td>\n",
       "      <td>TEST NOT OFFERED</td>\n",
       "      <td>621048</td>\n",
       "    </tr>\n",
       "    <tr>\n",
       "      <td>CELL_PHONE_USE</td>\n",
       "      <td>1144</td>\n",
       "      <td>2</td>\n",
       "      <td>Y</td>\n",
       "      <td>745</td>\n",
       "    </tr>\n",
       "  </tbody>\n",
       "</table>\n",
       "</div>"
      ],
      "text/plain": [
       "                        count  unique                      top    freq\n",
       "PERSON_ID              783816  783816                  O409908       1\n",
       "PERSON_TYPE            783816       6                   DRIVER  615209\n",
       "RD_NO                  783816  357877                 JB187770      61\n",
       "CRASH_DATE             783816  229497   11/10/2017 10:30:00 AM      64\n",
       "CITY                   585027    8453                  CHICAGO  410601\n",
       "STATE                  589541      52                       IL  558262\n",
       "ZIPCODE                536370    9395                    60629   19219\n",
       "SEX                    773346       4                        M  410832\n",
       "DRIVERS_LICENSE_STATE  473191     171                       IL  436438\n",
       "DRIVERS_LICENSE_CLASS  417338     215                        D  363711\n",
       "SAFETY_EQUIPMENT       781740      19         SAFETY BELT USED  407683\n",
       "AIRBAG_DEPLOYED        769044       7           DID NOT DEPLOY  500108\n",
       "EJECTION               774442       5                     NONE  727587\n",
       "INJURY_CLASSIFICATION  783480       5  NO INDICATION OF INJURY  725254\n",
       "HOSPITAL               142507    3893                  REFUSED   47440\n",
       "EMS_AGENCY              91779    4981                      DNA   20136\n",
       "EMS_RUN_NO              14136     733                      DNA    2890\n",
       "DRIVER_ACTION          628974      20                     NONE  234752\n",
       "DRIVER_VISION          628802      14             NOT OBSCURED  358061\n",
       "PHYSICAL_CONDITION     629406      12                   NORMAL  429036\n",
       "PEDPEDAL_ACTION         14604      23   CROSSING - WITH SIGNAL    3083\n",
       "PEDPEDAL_VISIBILITY     14565       4  NO CONTRASTING CLOTHING   11536\n",
       "PEDPEDAL_LOCATION       14603       8               IN ROADWAY    6873\n",
       "BAC_RESULT             630034       4         TEST NOT OFFERED  621048\n",
       "CELL_PHONE_USE           1144       2                        Y     745"
      ]
     },
     "execution_count": 10,
     "metadata": {},
     "output_type": "execute_result"
    }
   ],
   "source": [
    "people.describe(include = object).T"
   ]
  },
  {
   "cell_type": "code",
   "execution_count": 22,
   "metadata": {},
   "outputs": [
    {
     "data": {
      "text/plain": [
       "0"
      ]
     },
     "execution_count": 22,
     "metadata": {},
     "output_type": "execute_result"
    }
   ],
   "source": [
    "people['INJURY_CLASSIFICATION'].isnull().sum()"
   ]
  },
  {
   "cell_type": "code",
   "execution_count": 21,
   "metadata": {},
   "outputs": [],
   "source": [
    "people = people.dropna(subset=['INJURY_CLASSIFICATION'])"
   ]
  },
  {
   "cell_type": "code",
   "execution_count": 23,
   "metadata": {},
   "outputs": [
    {
     "data": {
      "text/plain": [
       "NO INDICATION OF INJURY     0.925683\n",
       "NONINCAPACITATING INJURY    0.040472\n",
       "REPORTED, NOT EVIDENT       0.025410\n",
       "INCAPACITATING INJURY       0.008032\n",
       "FATAL                       0.000403\n",
       "Name: INJURY_CLASSIFICATION, dtype: float64"
      ]
     },
     "execution_count": 23,
     "metadata": {},
     "output_type": "execute_result"
    }
   ],
   "source": [
    "people['INJURY_CLASSIFICATION'].value_counts(normalize = True)"
   ]
  },
  {
   "cell_type": "code",
   "execution_count": 24,
   "metadata": {},
   "outputs": [
    {
     "data": {
      "text/plain": [
       "((626784, 28), (156696, 28), (626784,), (156696,))"
      ]
     },
     "execution_count": 24,
     "metadata": {},
     "output_type": "execute_result"
    }
   ],
   "source": [
    "X_train, X_test, y_train, y_test = train_test_split(people.drop(['INJURY_CLASSIFICATION'], axis = 1), \n",
    "                                                    people['INJURY_CLASSIFICATION'], test_size=0.20)\n",
    "X_train.shape, X_test.shape, y_train.shape, y_test.shape"
   ]
  },
  {
   "cell_type": "code",
   "execution_count": 25,
   "metadata": {},
   "outputs": [
    {
     "data": {
      "text/plain": [
       "array([0.9358642 , 0.94845122, 0.94816404, 0.94833157, 0.93487244])"
      ]
     },
     "execution_count": 25,
     "metadata": {},
     "output_type": "execute_result"
    }
   ],
   "source": [
    "pipeline = make_pipeline(\n",
    "    ce.OrdinalEncoder(),\n",
    "    SimpleImputer(),\n",
    "    RandomForestClassifier(n_estimators = 100, n_jobs = -1)    \n",
    ")\n",
    "\n",
    "pipeline.fit(X_train, y_train)\n",
    "\n",
    "# y_pred = pipeline.predict(X_valid)\n",
    "# accuracy_score(y_valid, y_pred)\n",
    "\n",
    "cross_val_score(pipeline, X_train, y_train, scoring='accuracy', cv=5)"
   ]
  },
  {
   "cell_type": "code",
   "execution_count": null,
   "metadata": {},
   "outputs": [],
   "source": []
  }
 ],
 "metadata": {
  "kernelspec": {
   "display_name": "Python 3",
   "language": "python",
   "name": "python3"
  },
  "language_info": {
   "codemirror_mode": {
    "name": "ipython",
    "version": 3
   },
   "file_extension": ".py",
   "mimetype": "text/x-python",
   "name": "python",
   "nbconvert_exporter": "python",
   "pygments_lexer": "ipython3",
   "version": "3.7.4"
  }
 },
 "nbformat": 4,
 "nbformat_minor": 2
}
