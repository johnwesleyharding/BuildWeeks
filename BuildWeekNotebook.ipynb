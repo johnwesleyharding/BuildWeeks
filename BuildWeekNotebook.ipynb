{
  "nbformat": 4,
  "nbformat_minor": 0,
  "metadata": {
    "colab": {
      "name": "BuildWeekNotebook.ipynb",
      "provenance": [],
      "include_colab_link": true
    },
    "kernelspec": {
      "name": "python3",
      "display_name": "Python 3"
    }
  },
  "cells": [
    {
      "cell_type": "markdown",
      "metadata": {
        "id": "view-in-github",
        "colab_type": "text"
      },
      "source": [
        "<a href=\"https://colab.research.google.com/github/johnwesleyharding/BuildWeeks/blob/master/BuildWeekNotebook.ipynb\" target=\"_parent\"><img src=\"https://colab.research.google.com/assets/colab-badge.svg\" alt=\"Open In Colab\"/></a>"
      ]
    },
    {
      "cell_type": "code",
      "metadata": {
        "id": "GxYEfJHMF4ff",
        "colab_type": "code",
        "colab": {}
      },
      "source": [
        "import pandas as pd\n",
        "import seaborn as sns\n",
        "import matplotlib.pyplot as plt\n",
        "#%matplotlib inline"
      ],
      "execution_count": 0,
      "outputs": []
    },
    {
      "cell_type": "markdown",
      "metadata": {
        "id": "KvYOraRuOWiR",
        "colab_type": "text"
      },
      "source": [
        "Excel file before cleaning"
      ]
    },
    {
      "cell_type": "code",
      "metadata": {
        "id": "6TyLANOxOV0T",
        "colab_type": "code",
        "colab": {}
      },
      "source": [
        ""
      ],
      "execution_count": 0,
      "outputs": []
    },
    {
      "cell_type": "markdown",
      "metadata": {
        "id": "JIupgI5QOav5",
        "colab_type": "text"
      },
      "source": [
        "Excel file after cleaning"
      ]
    },
    {
      "cell_type": "code",
      "metadata": {
        "id": "swZgIil0OV9w",
        "colab_type": "code",
        "colab": {}
      },
      "source": [
        ""
      ],
      "execution_count": 0,
      "outputs": []
    },
    {
      "cell_type": "markdown",
      "metadata": {
        "id": "J_a-ZpMTF5ga",
        "colab_type": "text"
      },
      "source": [
        "1 pivot table to group by GDP range"
      ]
    },
    {
      "cell_type": "markdown",
      "metadata": {
        "id": "8OmiTIBaF8BA",
        "colab_type": "text"
      },
      "source": [
        "Now that I have data in the form I want it I specify names for graphing?"
      ]
    },
    {
      "cell_type": "code",
      "metadata": {
        "id": "pwWfdQ63HZfW",
        "colab_type": "code",
        "colab": {}
      },
      "source": [
        ""
      ],
      "execution_count": 0,
      "outputs": []
    }
  ]
}