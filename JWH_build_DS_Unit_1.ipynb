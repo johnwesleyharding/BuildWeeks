{
  "nbformat": 4,
  "nbformat_minor": 0,
  "metadata": {
    "colab": {
      "name": "JWH_build_DS_Unit_1.ipynb",
      "provenance": [],
      "include_colab_link": true
    },
    "kernelspec": {
      "name": "python3",
      "display_name": "Python 3"
    }
  },
  "cells": [
    {
      "cell_type": "markdown",
      "metadata": {
        "id": "view-in-github",
        "colab_type": "text"
      },
      "source": [
        "<a href=\"https://colab.research.google.com/github/johnwesleyharding/BuildWeeks/blob/master/JWH_build_DS_Unit_1.ipynb\" target=\"_parent\"><img src=\"https://colab.research.google.com/assets/colab-badge.svg\" alt=\"Open In Colab\"/></a>"
      ]
    },
    {
      "cell_type": "code",
      "metadata": {
        "id": "GxYEfJHMF4ff",
        "colab_type": "code",
        "colab": {}
      },
      "source": [
        "import pandas as pd\n",
        "import seaborn as sns\n",
        "import matplotlib.pyplot as plt\n",
        "#%matplotlib inline"
      ],
      "execution_count": 0,
      "outputs": []
    },
    {
      "cell_type": "markdown",
      "metadata": {
        "id": "KvYOraRuOWiR",
        "colab_type": "text"
      },
      "source": [
        "Excel file before cleaning:"
      ]
    },
    {
      "cell_type": "code",
      "metadata": {
        "id": "6TyLANOxOV0T",
        "colab_type": "code",
        "colab": {
          "base_uri": "https://localhost:8080/",
          "height": 204
        },
        "outputId": "ff2ec8e1-089e-4005-bfa1-9cf2648830db"
      },
      "source": [
        "ourl = 'https://github.com/johnwesleyharding/BuildWeeks/raw/master/lagdp1218original.xlsx'\n",
        "original = pd.read_excel(ourl, sheet_name='Table')\n",
        "original.head()"
      ],
      "execution_count": 2,
      "outputs": [
        {
          "output_type": "execute_result",
          "data": {
            "text/html": [
              "<div>\n",
              "<style scoped>\n",
              "    .dataframe tbody tr th:only-of-type {\n",
              "        vertical-align: middle;\n",
              "    }\n",
              "\n",
              "    .dataframe tbody tr th {\n",
              "        vertical-align: top;\n",
              "    }\n",
              "\n",
              "    .dataframe thead th {\n",
              "        text-align: right;\n",
              "    }\n",
              "</style>\n",
              "<table border=\"1\" class=\"dataframe\">\n",
              "  <thead>\n",
              "    <tr style=\"text-align: right;\">\n",
              "      <th></th>\n",
              "      <th>Table 1. Prototype Real Gross Domestic Product by County, 2012 - 2015</th>\n",
              "      <th>Unnamed: 1</th>\n",
              "      <th>Unnamed: 2</th>\n",
              "      <th>Unnamed: 3</th>\n",
              "      <th>Unnamed: 4</th>\n",
              "      <th>Unnamed: 5</th>\n",
              "      <th>Unnamed: 6</th>\n",
              "      <th>Unnamed: 7</th>\n",
              "      <th>Unnamed: 8</th>\n",
              "      <th>Unnamed: 9</th>\n",
              "    </tr>\n",
              "  </thead>\n",
              "  <tbody>\n",
              "    <tr>\n",
              "      <th>0</th>\n",
              "      <td>NaN</td>\n",
              "      <td>Real Gross Domestic Product</td>\n",
              "      <td>NaN</td>\n",
              "      <td>NaN</td>\n",
              "      <td>NaN</td>\n",
              "      <td>NaN</td>\n",
              "      <td>Percent change from preceding period</td>\n",
              "      <td>NaN</td>\n",
              "      <td>NaN</td>\n",
              "      <td>NaN</td>\n",
              "    </tr>\n",
              "    <tr>\n",
              "      <th>1</th>\n",
              "      <td>NaN</td>\n",
              "      <td>Thousands of chained (2012) dollars</td>\n",
              "      <td>NaN</td>\n",
              "      <td>NaN</td>\n",
              "      <td>NaN</td>\n",
              "      <td>Rank in State</td>\n",
              "      <td>Percent change</td>\n",
              "      <td>NaN</td>\n",
              "      <td>NaN</td>\n",
              "      <td>Rank in State</td>\n",
              "    </tr>\n",
              "    <tr>\n",
              "      <th>2</th>\n",
              "      <td>NaN</td>\n",
              "      <td>2012</td>\n",
              "      <td>2013.0</td>\n",
              "      <td>2014.0</td>\n",
              "      <td>2015.0</td>\n",
              "      <td>2015</td>\n",
              "      <td>2013</td>\n",
              "      <td>2014.0</td>\n",
              "      <td>2015.0</td>\n",
              "      <td>2015</td>\n",
              "    </tr>\n",
              "    <tr>\n",
              "      <th>3</th>\n",
              "      <td>Alabama</td>\n",
              "      <td>NaN</td>\n",
              "      <td>NaN</td>\n",
              "      <td>NaN</td>\n",
              "      <td>NaN</td>\n",
              "      <td>NaN</td>\n",
              "      <td>NaN</td>\n",
              "      <td>NaN</td>\n",
              "      <td>NaN</td>\n",
              "      <td>NaN</td>\n",
              "    </tr>\n",
              "    <tr>\n",
              "      <th>4</th>\n",
              "      <td>Autauga</td>\n",
              "      <td>1383941</td>\n",
              "      <td>1322416.0</td>\n",
              "      <td>1312668.0</td>\n",
              "      <td>1412939.0</td>\n",
              "      <td>24</td>\n",
              "      <td>-4.4</td>\n",
              "      <td>-0.7</td>\n",
              "      <td>7.6</td>\n",
              "      <td>7</td>\n",
              "    </tr>\n",
              "  </tbody>\n",
              "</table>\n",
              "</div>"
            ],
            "text/plain": [
              "  Table 1. Prototype Real Gross Domestic Product by County, 2012 - 2015  ...     Unnamed: 9\n",
              "0                                                NaN                     ...            NaN\n",
              "1                                                NaN                     ...  Rank in State\n",
              "2                                                NaN                     ...           2015\n",
              "3                                            Alabama                     ...            NaN\n",
              "4                                            Autauga                     ...              7\n",
              "\n",
              "[5 rows x 10 columns]"
            ]
          },
          "metadata": {
            "tags": []
          },
          "execution_count": 2
        }
      ]
    },
    {
      "cell_type": "markdown",
      "metadata": {
        "id": "JIupgI5QOav5",
        "colab_type": "text"
      },
      "source": [
        "Cleaning done manually on the Excel file including adding 'State' as a column, removing unneeded columns, condensing header rows to a single row, removeing blank rows.  Excel file after cleaning:"
      ]
    },
    {
      "cell_type": "code",
      "metadata": {
        "id": "swZgIil0OV9w",
        "colab_type": "code",
        "colab": {
          "base_uri": "https://localhost:8080/",
          "height": 204
        },
        "outputId": "cc43e0b8-9008-44dc-e35c-b0d52ea7de0d"
      },
      "source": [
        "url = 'https://github.com/johnwesleyharding/BuildWeeks/raw/master/lagdp1218.xls'\n",
        "df = pd.read_excel(url, sheet_name='Table')\n",
        "df.head()"
      ],
      "execution_count": 3,
      "outputs": [
        {
          "output_type": "execute_result",
          "data": {
            "text/html": [
              "<div>\n",
              "<style scoped>\n",
              "    .dataframe tbody tr th:only-of-type {\n",
              "        vertical-align: middle;\n",
              "    }\n",
              "\n",
              "    .dataframe tbody tr th {\n",
              "        vertical-align: top;\n",
              "    }\n",
              "\n",
              "    .dataframe thead th {\n",
              "        text-align: right;\n",
              "    }\n",
              "</style>\n",
              "<table border=\"1\" class=\"dataframe\">\n",
              "  <thead>\n",
              "    <tr style=\"text-align: right;\">\n",
              "      <th></th>\n",
              "      <th>State</th>\n",
              "      <th>County</th>\n",
              "      <th>2012</th>\n",
              "      <th>2013</th>\n",
              "      <th>2014</th>\n",
              "      <th>2015</th>\n",
              "      <th>p2013</th>\n",
              "      <th>p2014</th>\n",
              "      <th>p2015</th>\n",
              "    </tr>\n",
              "  </thead>\n",
              "  <tbody>\n",
              "    <tr>\n",
              "      <th>0</th>\n",
              "      <td>AL</td>\n",
              "      <td>Autauga</td>\n",
              "      <td>1383941</td>\n",
              "      <td>1322416</td>\n",
              "      <td>1312668</td>\n",
              "      <td>1412939</td>\n",
              "      <td>-4.4</td>\n",
              "      <td>-0.7</td>\n",
              "      <td>7.6</td>\n",
              "    </tr>\n",
              "    <tr>\n",
              "      <th>1</th>\n",
              "      <td>AL</td>\n",
              "      <td>Baldwin</td>\n",
              "      <td>5599194</td>\n",
              "      <td>6218819</td>\n",
              "      <td>6247887</td>\n",
              "      <td>5981958</td>\n",
              "      <td>11.1</td>\n",
              "      <td>0.5</td>\n",
              "      <td>-4.3</td>\n",
              "    </tr>\n",
              "    <tr>\n",
              "      <th>2</th>\n",
              "      <td>AL</td>\n",
              "      <td>Barbour</td>\n",
              "      <td>639833</td>\n",
              "      <td>687532</td>\n",
              "      <td>663462</td>\n",
              "      <td>708778</td>\n",
              "      <td>7.5</td>\n",
              "      <td>-3.5</td>\n",
              "      <td>6.8</td>\n",
              "    </tr>\n",
              "    <tr>\n",
              "      <th>3</th>\n",
              "      <td>AL</td>\n",
              "      <td>Bibb</td>\n",
              "      <td>297560</td>\n",
              "      <td>314380</td>\n",
              "      <td>305472</td>\n",
              "      <td>291780</td>\n",
              "      <td>5.7</td>\n",
              "      <td>-2.8</td>\n",
              "      <td>-4.5</td>\n",
              "    </tr>\n",
              "    <tr>\n",
              "      <th>4</th>\n",
              "      <td>AL</td>\n",
              "      <td>Blount</td>\n",
              "      <td>632761</td>\n",
              "      <td>683949</td>\n",
              "      <td>661352</td>\n",
              "      <td>778131</td>\n",
              "      <td>8.1</td>\n",
              "      <td>-3.3</td>\n",
              "      <td>17.7</td>\n",
              "    </tr>\n",
              "  </tbody>\n",
              "</table>\n",
              "</div>"
            ],
            "text/plain": [
              "  State   County     2012     2013     2014     2015  p2013  p2014  p2015\n",
              "0    AL  Autauga  1383941  1322416  1312668  1412939   -4.4   -0.7    7.6\n",
              "1    AL  Baldwin  5599194  6218819  6247887  5981958   11.1    0.5   -4.3\n",
              "2    AL  Barbour   639833   687532   663462   708778    7.5   -3.5    6.8\n",
              "3    AL     Bibb   297560   314380   305472   291780    5.7   -2.8   -4.5\n",
              "4    AL   Blount   632761   683949   661352   778131    8.1   -3.3   17.7"
            ]
          },
          "metadata": {
            "tags": []
          },
          "execution_count": 3
        }
      ]
    },
    {
      "cell_type": "markdown",
      "metadata": {
        "id": "J_a-ZpMTF5ga",
        "colab_type": "text"
      },
      "source": [
        "1 pivot table to group by GDP range"
      ]
    },
    {
      "cell_type": "markdown",
      "metadata": {
        "id": "8OmiTIBaF8BA",
        "colab_type": "text"
      },
      "source": [
        "Now that I have data in the form I want it I specify names for graphing?"
      ]
    },
    {
      "cell_type": "code",
      "metadata": {
        "id": "pwWfdQ63HZfW",
        "colab_type": "code",
        "colab": {}
      },
      "source": [
        ""
      ],
      "execution_count": 0,
      "outputs": []
    }
  ]
}