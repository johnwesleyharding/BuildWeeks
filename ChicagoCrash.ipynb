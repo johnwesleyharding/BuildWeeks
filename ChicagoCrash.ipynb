{
 "cells": [
  {
   "cell_type": "code",
   "execution_count": 1,
   "metadata": {},
   "outputs": [],
   "source": [
    "import numpy as np\n",
    "import pandas as pd\n",
    "import seaborn as sns\n",
    "from sklearn.model_selection import train_test_split\n",
    "from sklearn.model_selection import cross_val_score\n",
    "import category_encoders as ce\n",
    "from sklearn.impute import SimpleImputer\n",
    "from sklearn.preprocessing import StandardScaler\n",
    "from sklearn.pipeline import make_pipeline\n",
    "from sklearn.model_selection import RandomizedSearchCV\n",
    "from sklearn.ensemble import RandomForestClassifier\n",
    "from sklearn.linear_model import LogisticRegression\n",
    "from sklearn.linear_model import LogisticRegressionCV\n",
    "from sklearn.dummy import DummyClassifier\n",
    "from sklearn.metrics import accuracy_score\n",
    "from sklearn.metrics import classification_report\n",
    "from sklearn.metrics import make_scorer\n",
    "from sklearn.metrics import recall_score\n",
    "from imblearn.over_sampling import RandomOverSampler\n",
    "from imblearn.under_sampling import RandomUnderSampler\n",
    "import shap\n",
    "from pdpbox.pdp import pdp_isolate, pdp_plot, pdp_interact, pdp_interact_plot\n",
    "import eli5\n",
    "from eli5.sklearn import PermutationImportance\n",
    "from sklearn.utils.multiclass import unique_labels\n",
    "from sklearn.metrics import confusion_matrix"
   ]
  },
  {
   "cell_type": "code",
   "execution_count": 2,
   "metadata": {},
   "outputs": [],
   "source": [
    "crash = pd.read_csv('../DS-Unit-2-4-Build-Week/crash.csv')"
   ]
  },
  {
   "cell_type": "markdown",
   "metadata": {},
   "source": [
    "Create categorical month and hour features from a date/time feature:"
   ]
  },
  {
   "cell_type": "code",
   "execution_count": 3,
   "metadata": {},
   "outputs": [],
   "source": [
    "def crashmo(date):\n",
    "    return date[:2]\n",
    "\n",
    "crash['MONTH'] = crash['CRASH_DATE'].apply(crashmo)"
   ]
  },
  {
   "cell_type": "code",
   "execution_count": 4,
   "metadata": {},
   "outputs": [],
   "source": [
    "def crashhr(date):\n",
    "    \n",
    "    hour = date[11:13]\n",
    "    \n",
    "    if date[20] == 'A':\n",
    "        \n",
    "        if int(hour) == 12:\n",
    "            return '00'\n",
    "\n",
    "        return hour\n",
    "\n",
    "    else:\n",
    "        \n",
    "        if int(hour) == 12:\n",
    "            return hour\n",
    "        \n",
    "        return str(int(hour) + 12)\n",
    "\n",
    "crash['HOUR'] = crash['CRASH_DATE'].apply(crashhr)"
   ]
  },
  {
   "cell_type": "markdown",
   "metadata": {},
   "source": [
    "Clean outlier speed limits:"
   ]
  },
  {
   "cell_type": "code",
   "execution_count": 5,
   "metadata": {},
   "outputs": [
    {
     "data": {
      "text/plain": [
       "30    272459\n",
       "35     24424\n",
       "25     21355\n",
       "20     13603\n",
       "15     12038\n",
       "10      6901\n",
       "5       3295\n",
       "40      3233\n",
       "45      2127\n",
       "55       335\n",
       "50        72\n",
       "60        23\n",
       "65         7\n",
       "70         2\n",
       "Name: POSTED_SPEED_LIMIT, dtype: int64"
      ]
     },
     "execution_count": 5,
     "metadata": {},
     "output_type": "execute_result"
    }
   ],
   "source": [
    "mode = crash['POSTED_SPEED_LIMIT'].mode()[0]\n",
    "\n",
    "def speeds(speed):\n",
    "    \n",
    "    if speed == 99:\n",
    "        \n",
    "        return mode\n",
    "    \n",
    "    speed = 5 * (speed // 5)\n",
    "    \n",
    "    if speed == 0:\n",
    "        \n",
    "        return mode\n",
    "    \n",
    "    return speed\n",
    "\n",
    "crash['POSTED_SPEED_LIMIT'] = crash['POSTED_SPEED_LIMIT'].apply(speeds)\n",
    "crash['POSTED_SPEED_LIMIT'].value_counts()"
   ]
  },
  {
   "cell_type": "markdown",
   "metadata": {},
   "source": [
    "Assign features and target, then review data:"
   ]
  },
  {
   "cell_type": "code",
   "execution_count": 6,
   "metadata": {},
   "outputs": [],
   "source": [
    "features = ['MONTH', 'HOUR', 'TRAFFIC_CONTROL_DEVICE', 'WEATHER_CONDITION', 'LIGHTING_CONDITION', 'FIRST_CRASH_TYPE', \n",
    "            'TRAFFICWAY_TYPE', 'ALIGNMENT', 'ROADWAY_SURFACE_COND', 'ROAD_DEFECT', 'PRIM_CONTRIBUTORY_CAUSE', \n",
    "            'POSTED_SPEED_LIMIT']\n",
    "target = 'MOST_SEVERE_INJURY'"
   ]
  },
  {
   "cell_type": "code",
   "execution_count": 7,
   "metadata": {},
   "outputs": [
    {
     "data": {
      "text/html": [
       "<div>\n",
       "<style scoped>\n",
       "    .dataframe tbody tr th:only-of-type {\n",
       "        vertical-align: middle;\n",
       "    }\n",
       "\n",
       "    .dataframe tbody tr th {\n",
       "        vertical-align: top;\n",
       "    }\n",
       "\n",
       "    .dataframe thead th {\n",
       "        text-align: right;\n",
       "    }\n",
       "</style>\n",
       "<table border=\"1\" class=\"dataframe\">\n",
       "  <thead>\n",
       "    <tr style=\"text-align: right;\">\n",
       "      <th></th>\n",
       "      <th>count</th>\n",
       "      <th>mean</th>\n",
       "      <th>std</th>\n",
       "      <th>min</th>\n",
       "      <th>25%</th>\n",
       "      <th>50%</th>\n",
       "      <th>75%</th>\n",
       "      <th>max</th>\n",
       "    </tr>\n",
       "  </thead>\n",
       "  <tbody>\n",
       "    <tr>\n",
       "      <td>POSTED_SPEED_LIMIT</td>\n",
       "      <td>359874.0</td>\n",
       "      <td>28.759052</td>\n",
       "      <td>5.414784</td>\n",
       "      <td>5.0</td>\n",
       "      <td>30.0</td>\n",
       "      <td>30.0</td>\n",
       "      <td>30.0</td>\n",
       "      <td>70.0</td>\n",
       "    </tr>\n",
       "  </tbody>\n",
       "</table>\n",
       "</div>"
      ],
      "text/plain": [
       "                       count       mean       std  min   25%   50%   75%   max\n",
       "POSTED_SPEED_LIMIT  359874.0  28.759052  5.414784  5.0  30.0  30.0  30.0  70.0"
      ]
     },
     "execution_count": 7,
     "metadata": {},
     "output_type": "execute_result"
    }
   ],
   "source": [
    "crash[features].describe().T"
   ]
  },
  {
   "cell_type": "code",
   "execution_count": 8,
   "metadata": {},
   "outputs": [
    {
     "data": {
      "text/html": [
       "<div>\n",
       "<style scoped>\n",
       "    .dataframe tbody tr th:only-of-type {\n",
       "        vertical-align: middle;\n",
       "    }\n",
       "\n",
       "    .dataframe tbody tr th {\n",
       "        vertical-align: top;\n",
       "    }\n",
       "\n",
       "    .dataframe thead th {\n",
       "        text-align: right;\n",
       "    }\n",
       "</style>\n",
       "<table border=\"1\" class=\"dataframe\">\n",
       "  <thead>\n",
       "    <tr style=\"text-align: right;\">\n",
       "      <th></th>\n",
       "      <th>count</th>\n",
       "      <th>unique</th>\n",
       "      <th>top</th>\n",
       "      <th>freq</th>\n",
       "    </tr>\n",
       "  </thead>\n",
       "  <tbody>\n",
       "    <tr>\n",
       "      <td>MONTH</td>\n",
       "      <td>359874</td>\n",
       "      <td>12</td>\n",
       "      <td>10</td>\n",
       "      <td>38018</td>\n",
       "    </tr>\n",
       "    <tr>\n",
       "      <td>HOUR</td>\n",
       "      <td>359874</td>\n",
       "      <td>24</td>\n",
       "      <td>16</td>\n",
       "      <td>27620</td>\n",
       "    </tr>\n",
       "    <tr>\n",
       "      <td>TRAFFIC_CONTROL_DEVICE</td>\n",
       "      <td>359874</td>\n",
       "      <td>19</td>\n",
       "      <td>NO CONTROLS</td>\n",
       "      <td>207376</td>\n",
       "    </tr>\n",
       "    <tr>\n",
       "      <td>WEATHER_CONDITION</td>\n",
       "      <td>359874</td>\n",
       "      <td>11</td>\n",
       "      <td>CLEAR</td>\n",
       "      <td>284503</td>\n",
       "    </tr>\n",
       "    <tr>\n",
       "      <td>LIGHTING_CONDITION</td>\n",
       "      <td>359874</td>\n",
       "      <td>6</td>\n",
       "      <td>DAYLIGHT</td>\n",
       "      <td>238671</td>\n",
       "    </tr>\n",
       "    <tr>\n",
       "      <td>FIRST_CRASH_TYPE</td>\n",
       "      <td>359874</td>\n",
       "      <td>18</td>\n",
       "      <td>REAR END</td>\n",
       "      <td>89457</td>\n",
       "    </tr>\n",
       "    <tr>\n",
       "      <td>TRAFFICWAY_TYPE</td>\n",
       "      <td>359874</td>\n",
       "      <td>20</td>\n",
       "      <td>NOT DIVIDED</td>\n",
       "      <td>163870</td>\n",
       "    </tr>\n",
       "    <tr>\n",
       "      <td>ALIGNMENT</td>\n",
       "      <td>359874</td>\n",
       "      <td>6</td>\n",
       "      <td>STRAIGHT AND LEVEL</td>\n",
       "      <td>350942</td>\n",
       "    </tr>\n",
       "    <tr>\n",
       "      <td>ROADWAY_SURFACE_COND</td>\n",
       "      <td>359874</td>\n",
       "      <td>7</td>\n",
       "      <td>DRY</td>\n",
       "      <td>269420</td>\n",
       "    </tr>\n",
       "    <tr>\n",
       "      <td>ROAD_DEFECT</td>\n",
       "      <td>359874</td>\n",
       "      <td>7</td>\n",
       "      <td>NO DEFECTS</td>\n",
       "      <td>300262</td>\n",
       "    </tr>\n",
       "    <tr>\n",
       "      <td>PRIM_CONTRIBUTORY_CAUSE</td>\n",
       "      <td>359874</td>\n",
       "      <td>40</td>\n",
       "      <td>UNABLE TO DETERMINE</td>\n",
       "      <td>129906</td>\n",
       "    </tr>\n",
       "  </tbody>\n",
       "</table>\n",
       "</div>"
      ],
      "text/plain": [
       "                          count unique                  top    freq\n",
       "MONTH                    359874     12                   10   38018\n",
       "HOUR                     359874     24                   16   27620\n",
       "TRAFFIC_CONTROL_DEVICE   359874     19          NO CONTROLS  207376\n",
       "WEATHER_CONDITION        359874     11                CLEAR  284503\n",
       "LIGHTING_CONDITION       359874      6             DAYLIGHT  238671\n",
       "FIRST_CRASH_TYPE         359874     18             REAR END   89457\n",
       "TRAFFICWAY_TYPE          359874     20          NOT DIVIDED  163870\n",
       "ALIGNMENT                359874      6   STRAIGHT AND LEVEL  350942\n",
       "ROADWAY_SURFACE_COND     359874      7                  DRY  269420\n",
       "ROAD_DEFECT              359874      7           NO DEFECTS  300262\n",
       "PRIM_CONTRIBUTORY_CAUSE  359874     40  UNABLE TO DETERMINE  129906"
      ]
     },
     "execution_count": 8,
     "metadata": {},
     "output_type": "execute_result"
    }
   ],
   "source": [
    "crash[features].describe(include = object).T"
   ]
  },
  {
   "cell_type": "markdown",
   "metadata": {},
   "source": [
    "Remove observations without the target class and view the distribution:"
   ]
  },
  {
   "cell_type": "code",
   "execution_count": 9,
   "metadata": {},
   "outputs": [
    {
     "data": {
      "text/plain": [
       "2004"
      ]
     },
     "execution_count": 9,
     "metadata": {},
     "output_type": "execute_result"
    }
   ],
   "source": [
    "crash[target].isnull().sum()"
   ]
  },
  {
   "cell_type": "code",
   "execution_count": 10,
   "metadata": {},
   "outputs": [],
   "source": [
    "crash = crash.dropna(subset=[target])"
   ]
  },
  {
   "cell_type": "code",
   "execution_count": 11,
   "metadata": {},
   "outputs": [
    {
     "data": {
      "text/plain": [
       "NO INDICATION OF INJURY     0.879476\n",
       "NONINCAPACITATING INJURY    0.065795\n",
       "REPORTED, NOT EVIDENT       0.038872\n",
       "INCAPACITATING INJURY       0.015039\n",
       "FATAL                       0.000819\n",
       "Name: MOST_SEVERE_INJURY, dtype: float64"
      ]
     },
     "execution_count": 11,
     "metadata": {},
     "output_type": "execute_result"
    }
   ],
   "source": [
    "crash[target].value_counts(normalize = True)"
   ]
  },
  {
   "cell_type": "code",
   "execution_count": 12,
   "metadata": {},
   "outputs": [
    {
     "data": {
      "text/plain": [
       "NO INDICATION OF INJURY     314738\n",
       "NONINCAPACITATING INJURY     23546\n",
       "REPORTED, NOT EVIDENT        13911\n",
       "INCAPACITATING INJURY         5382\n",
       "FATAL                          293\n",
       "Name: MOST_SEVERE_INJURY, dtype: int64"
      ]
     },
     "execution_count": 12,
     "metadata": {},
     "output_type": "execute_result"
    }
   ],
   "source": [
    "crash[target].value_counts()"
   ]
  },
  {
   "cell_type": "markdown",
   "metadata": {},
   "source": [
    "Separate data into train and test sets:"
   ]
  },
  {
   "cell_type": "code",
   "execution_count": 13,
   "metadata": {},
   "outputs": [
    {
     "data": {
      "text/plain": [
       "((286296, 12), (71574, 12), (286296,), (71574,))"
      ]
     },
     "execution_count": 13,
     "metadata": {},
     "output_type": "execute_result"
    }
   ],
   "source": [
    "X_train, X_test, y_train, y_test = train_test_split(crash[features], crash[target], test_size=0.20)\n",
    "X_train.shape, X_test.shape, y_train.shape, y_test.shape"
   ]
  },
  {
   "cell_type": "markdown",
   "metadata": {},
   "source": [
    "Evaluate baseline with a dummy classifier:"
   ]
  },
  {
   "cell_type": "code",
   "execution_count": 14,
   "metadata": {},
   "outputs": [],
   "source": [
    "pipeline0 = make_pipeline(\n",
    "    ce.OrdinalEncoder(),\n",
    "    DummyClassifier()\n",
    ")"
   ]
  },
  {
   "cell_type": "code",
   "execution_count": 15,
   "metadata": {},
   "outputs": [
    {
     "name": "stdout",
     "output_type": "stream",
     "text": [
      "                          precision    recall  f1-score   support\n",
      "\n",
      "                   FATAL       0.00      0.00      0.00        70\n",
      "   INCAPACITATING INJURY       0.02      0.02      0.02      1060\n",
      " NO INDICATION OF INJURY       0.88      0.88      0.88     62901\n",
      "NONINCAPACITATING INJURY       0.07      0.07      0.07      4681\n",
      "   REPORTED, NOT EVIDENT       0.04      0.04      0.04      2862\n",
      "\n",
      "                accuracy                           0.78     71574\n",
      "               macro avg       0.20      0.20      0.20     71574\n",
      "            weighted avg       0.78      0.78      0.78     71574\n",
      "\n"
     ]
    }
   ],
   "source": [
    "pipeline0.fit(X_train, y_train)\n",
    "y_pred = pipeline0.predict(X_test)\n",
    "print(classification_report(y_test, y_pred))"
   ]
  },
  {
   "cell_type": "code",
   "execution_count": 16,
   "metadata": {},
   "outputs": [
    {
     "data": {
      "text/plain": [
       "NO INDICATION OF INJURY     62925\n",
       "NONINCAPACITATING INJURY     4701\n",
       "REPORTED, NOT EVIDENT        2816\n",
       "INCAPACITATING INJURY        1080\n",
       "FATAL                          52\n",
       "dtype: int64"
      ]
     },
     "execution_count": 16,
     "metadata": {},
     "output_type": "execute_result"
    }
   ],
   "source": [
    "pd.Series(y_pred).value_counts()"
   ]
  },
  {
   "cell_type": "markdown",
   "metadata": {},
   "source": [
    "Resample the heavily weighted data (train set only) for improved modelling:"
   ]
  },
  {
   "cell_type": "code",
   "execution_count": 17,
   "metadata": {},
   "outputs": [
    {
     "data": {
      "text/plain": [
       "((1115, 12), (1115,))"
      ]
     },
     "execution_count": 17,
     "metadata": {},
     "output_type": "execute_result"
    }
   ],
   "source": [
    "ros = RandomOverSampler()\n",
    "rus = RandomUnderSampler()\n",
    "\n",
    "X_train, y_train = rus.fit_resample(X_train, y_train)\n",
    "X_train.shape, y_train.shape"
   ]
  },
  {
   "cell_type": "markdown",
   "metadata": {},
   "source": [
    "Match the resampled data with the format of the test data (necessary to make a prediction). \n",
    "Then confirm the samples are balanced by class label:"
   ]
  },
  {
   "cell_type": "code",
   "execution_count": 18,
   "metadata": {},
   "outputs": [
    {
     "data": {
      "text/plain": [
       "NONINCAPACITATING INJURY    223\n",
       "REPORTED, NOT EVIDENT       223\n",
       "FATAL                       223\n",
       "INCAPACITATING INJURY       223\n",
       "NO INDICATION OF INJURY     223\n",
       "Name: MOST_SEVERE_INJURY, dtype: int64"
      ]
     },
     "execution_count": 18,
     "metadata": {},
     "output_type": "execute_result"
    }
   ],
   "source": [
    "X_train = pd.DataFrame(X_train, columns = features)\n",
    "y_train = pd.Series(y_train, name = target)\n",
    "\n",
    "y_train.value_counts()"
   ]
  },
  {
   "cell_type": "markdown",
   "metadata": {},
   "source": [
    "Model, predict, and evaluate the data with Logistic Regression:"
   ]
  },
  {
   "cell_type": "code",
   "execution_count": 19,
   "metadata": {},
   "outputs": [],
   "source": [
    "pipeline = make_pipeline(\n",
    "    ce.OrdinalEncoder(),\n",
    "    LogisticRegression(class_weight = 'balanced', multi_class = 'auto')\n",
    ")"
   ]
  },
  {
   "cell_type": "code",
   "execution_count": 20,
   "metadata": {},
   "outputs": [
    {
     "name": "stdout",
     "output_type": "stream",
     "text": [
      "Fitting 3 folds for each of 6 candidates, totalling 18 fits\n"
     ]
    },
    {
     "name": "stderr",
     "output_type": "stream",
     "text": [
      "[Parallel(n_jobs=-2)]: Using backend LokyBackend with 7 concurrent workers.\n",
      "[Parallel(n_jobs=-2)]: Done   4 tasks      | elapsed:    2.4s\n",
      "[Parallel(n_jobs=-2)]: Done   7 out of  18 | elapsed:    2.4s remaining:    3.9s\n",
      "[Parallel(n_jobs=-2)]: Done   9 out of  18 | elapsed:    2.6s remaining:    2.6s\n",
      "[Parallel(n_jobs=-2)]: Done  11 out of  18 | elapsed:    2.6s remaining:    1.6s\n",
      "[Parallel(n_jobs=-2)]: Done  13 out of  18 | elapsed:    2.6s remaining:    0.9s\n",
      "[Parallel(n_jobs=-2)]: Done  15 out of  18 | elapsed:    2.7s remaining:    0.5s\n",
      "[Parallel(n_jobs=-2)]: Done  18 out of  18 | elapsed:    2.7s finished\n"
     ]
    },
    {
     "data": {
      "text/plain": [
       "RandomizedSearchCV(cv=3, error_score='raise-deprecating',\n",
       "                   estimator=Pipeline(memory=None,\n",
       "                                      steps=[('ordinalencoder',\n",
       "                                              OrdinalEncoder(cols=None,\n",
       "                                                             drop_invariant=False,\n",
       "                                                             handle_missing='value',\n",
       "                                                             handle_unknown='value',\n",
       "                                                             mapping=None,\n",
       "                                                             return_df=True,\n",
       "                                                             verbose=0)),\n",
       "                                             ('logisticregression',\n",
       "                                              LogisticRegression(C=1.0,\n",
       "                                                                 class_weight='balanced',\n",
       "                                                                 dual=False,\n",
       "                                                                 fit_intercept=True,\n",
       "                                                                 inter...\n",
       "                                                                 warm_start=False))],\n",
       "                                      verbose=False),\n",
       "                   iid='warn', n_iter=10, n_jobs=-2,\n",
       "                   param_distributions={'logisticregression__C': [0.1, 1, 10],\n",
       "                                        'logisticregression__penalty': ['l1',\n",
       "                                                                        'l2']},\n",
       "                   pre_dispatch='2*n_jobs', random_state=None, refit=True,\n",
       "                   return_train_score=True,\n",
       "                   scoring=make_scorer(recall_score, average=macro, labels=['NONINCAPACITATING INJURY', 'INCAPACITATING INJURY', 'FATAL']),\n",
       "                   verbose=10)"
      ]
     },
     "execution_count": 20,
     "metadata": {},
     "output_type": "execute_result"
    }
   ],
   "source": [
    "param_distributions = {\n",
    "    'logisticregression__penalty': ['l1', 'l2'], \n",
    "    'logisticregression__C': [.1, 1, 10]\n",
    "}\n",
    "\n",
    "search = RandomizedSearchCV(\n",
    "    pipeline, \n",
    "    param_distributions = param_distributions, \n",
    "    n_iter = 10, \n",
    "    cv = 3, \n",
    "    scoring = make_scorer(recall_score, average = 'macro', \n",
    "                          labels = ['NONINCAPACITATING INJURY', 'INCAPACITATING INJURY', 'FATAL']),\n",
    "    verbose = 10, \n",
    "    return_train_score = True, \n",
    "    n_jobs = -2\n",
    ")\n",
    "\n",
    "search.fit(X_train, y_train)"
   ]
  },
  {
   "cell_type": "code",
   "execution_count": 21,
   "metadata": {},
   "outputs": [
    {
     "name": "stdout",
     "output_type": "stream",
     "text": [
      "{'logisticregression__penalty': 'l1', 'logisticregression__C': 10}\n",
      "0.28101644245142005\n"
     ]
    }
   ],
   "source": [
    "print(search.best_params_)\n",
    "print(search.best_score_)"
   ]
  },
  {
   "cell_type": "code",
   "execution_count": 22,
   "metadata": {},
   "outputs": [
    {
     "name": "stdout",
     "output_type": "stream",
     "text": [
      "                          precision    recall  f1-score   support\n",
      "\n",
      "                   FATAL       0.00      0.49      0.00        70\n",
      "   INCAPACITATING INJURY       0.02      0.14      0.04      1060\n",
      " NO INDICATION OF INJURY       0.91      0.25      0.39     62901\n",
      "NONINCAPACITATING INJURY       0.08      0.15      0.11      4681\n",
      "   REPORTED, NOT EVIDENT       0.05      0.35      0.09      2862\n",
      "\n",
      "                accuracy                           0.25     71574\n",
      "               macro avg       0.21      0.27      0.13     71574\n",
      "            weighted avg       0.81      0.25      0.36     71574\n",
      "\n"
     ]
    }
   ],
   "source": [
    "model = search.best_estimator_\n",
    "y_pred = model.predict(X_test)\n",
    "print(classification_report(y_test, y_pred))"
   ]
  },
  {
   "cell_type": "code",
   "execution_count": 23,
   "metadata": {},
   "outputs": [
    {
     "data": {
      "text/plain": [
       "REPORTED, NOT EVIDENT       19932\n",
       "FATAL                       18977\n",
       "NO INDICATION OF INJURY     17170\n",
       "NONINCAPACITATING INJURY     8437\n",
       "INCAPACITATING INJURY        7058\n",
       "dtype: int64"
      ]
     },
     "execution_count": 23,
     "metadata": {},
     "output_type": "execute_result"
    }
   ],
   "source": [
    "pd.Series(y_pred).value_counts()"
   ]
  },
  {
   "cell_type": "code",
   "execution_count": 24,
   "metadata": {
    "scrolled": true
   },
   "outputs": [
    {
     "data": {
      "image/png": "[encoded data removed]",
      "text/plain": [
       "<Figure size 432x288 with 2 Axes>"
      ]
     },
     "metadata": {
      "needs_background": "light"
     },
     "output_type": "display_data"
    }
   ],
   "source": [
    "def plot_confusion_matrix(y_test, y_pred):\n",
    "    labels = unique_labels(y_test)\n",
    "    columns = [f'Predicted {label}' for label in labels]\n",
    "    index = [f'Actual {label}' for label in labels]\n",
    "    table = pd.DataFrame(confusion_matrix(y_test, y_pred), \n",
    "                         columns=columns, index=index)\n",
    "    return sns.heatmap(table, annot=True, fmt='d', cmap='viridis')\n",
    "\n",
    "plot_confusion_matrix(y_test, y_pred);"
   ]
  },
  {
   "cell_type": "markdown",
   "metadata": {},
   "source": [
    "Model, predict, and evaluate the data with Random Forest Classifier:"
   ]
  },
  {
   "cell_type": "code",
   "execution_count": 25,
   "metadata": {},
   "outputs": [],
   "source": [
    "pipeline2 = make_pipeline(\n",
    "    ce.OrdinalEncoder(),\n",
    "    RandomForestClassifier()\n",
    ")"
   ]
  },
  {
   "cell_type": "code",
   "execution_count": 26,
   "metadata": {},
   "outputs": [
    {
     "name": "stdout",
     "output_type": "stream",
     "text": [
      "Fitting 3 folds for each of 10 candidates, totalling 30 fits\n"
     ]
    },
    {
     "name": "stderr",
     "output_type": "stream",
     "text": [
      "[Parallel(n_jobs=-2)]: Using backend LokyBackend with 7 concurrent workers.\n",
      "[Parallel(n_jobs=-2)]: Done   4 tasks      | elapsed:    0.6s\n",
      "[Parallel(n_jobs=-2)]: Done  11 tasks      | elapsed:    1.2s\n",
      "[Parallel(n_jobs=-2)]: Done  21 out of  30 | elapsed:    1.9s remaining:    0.7s\n",
      "[Parallel(n_jobs=-2)]: Done  25 out of  30 | elapsed:    2.2s remaining:    0.4s\n",
      "[Parallel(n_jobs=-2)]: Done  30 out of  30 | elapsed:    2.5s finished\n"
     ]
    },
    {
     "data": {
      "text/plain": [
       "RandomizedSearchCV(cv=3, error_score='raise-deprecating',\n",
       "                   estimator=Pipeline(memory=None,\n",
       "                                      steps=[('ordinalencoder',\n",
       "                                              OrdinalEncoder(cols=None,\n",
       "                                                             drop_invariant=False,\n",
       "                                                             handle_missing='value',\n",
       "                                                             handle_unknown='value',\n",
       "                                                             mapping=None,\n",
       "                                                             return_df=True,\n",
       "                                                             verbose=0)),\n",
       "                                             ('randomforestclassifier',\n",
       "                                              RandomForestClassifier(bootstrap=True,\n",
       "                                                                     class_weight=None,\n",
       "                                                                     criterion='gini',\n",
       "                                                                     max_dep...\n",
       "                                        'randomforestclassifier__max_features': <scipy.stats._distn_infrastructure.rv_frozen object at 0x00000216148CDC48>,\n",
       "                                        'randomforestclassifier__min_samples_leaf': [1,\n",
       "                                                                                     2,\n",
       "                                                                                     4,\n",
       "                                                                                     8],\n",
       "                                        'randomforestclassifier__n_estimators': range(64, 256)},\n",
       "                   pre_dispatch='2*n_jobs', random_state=None, refit=True,\n",
       "                   return_train_score=True,\n",
       "                   scoring=make_scorer(recall_score, average=macro, labels=['NONINCAPACITATING INJURY', 'INCAPACITATING INJURY', 'FATAL']),\n",
       "                   verbose=10)"
      ]
     },
     "execution_count": 26,
     "metadata": {},
     "output_type": "execute_result"
    }
   ],
   "source": [
    "from scipy.stats import uniform\n",
    "\n",
    "param_distributions = {\n",
    "    'randomforestclassifier__n_estimators': range(64, 256), \n",
    "    'randomforestclassifier__max_depth': [4, 8, 16, 32], \n",
    "    'randomforestclassifier__max_features': uniform(0, 1), \n",
    "    'randomforestclassifier__min_samples_leaf': [1, 2, 4, 8], \n",
    "}\n",
    "\n",
    "search = RandomizedSearchCV(\n",
    "    pipeline2, \n",
    "    param_distributions = param_distributions, \n",
    "    n_iter = 10, \n",
    "    cv = 3, \n",
    "    scoring = make_scorer(recall_score, average = 'macro', \n",
    "                          labels = ['NONINCAPACITATING INJURY', 'INCAPACITATING INJURY', 'FATAL']),\n",
    "    verbose = 10, \n",
    "    return_train_score = True, \n",
    "    n_jobs = -2\n",
    ")\n",
    "\n",
    "search.fit(X_train, y_train)"
   ]
  },
  {
   "cell_type": "code",
   "execution_count": 27,
   "metadata": {},
   "outputs": [
    {
     "name": "stdout",
     "output_type": "stream",
     "text": [
      "{'randomforestclassifier__max_depth': 16, 'randomforestclassifier__max_features': 0.48962153483472626, 'randomforestclassifier__min_samples_leaf': 4, 'randomforestclassifier__n_estimators': 81}\n",
      "0.3288490284005979\n"
     ]
    }
   ],
   "source": [
    "print(search.best_params_)\n",
    "print(search.best_score_)"
   ]
  },
  {
   "cell_type": "code",
   "execution_count": 28,
   "metadata": {},
   "outputs": [
    {
     "name": "stdout",
     "output_type": "stream",
     "text": [
      "                          precision    recall  f1-score   support\n",
      "\n",
      "                   FATAL       0.01      0.67      0.01        70\n",
      "   INCAPACITATING INJURY       0.05      0.25      0.08      1060\n",
      " NO INDICATION OF INJURY       0.95      0.50      0.65     62901\n",
      "NONINCAPACITATING INJURY       0.12      0.22      0.16      4681\n",
      "   REPORTED, NOT EVIDENT       0.05      0.33      0.09      2862\n",
      "\n",
      "                accuracy                           0.47     71574\n",
      "               macro avg       0.24      0.39      0.20     71574\n",
      "            weighted avg       0.84      0.47      0.59     71574\n",
      "\n"
     ]
    }
   ],
   "source": [
    "model = search.best_estimator_\n",
    "y_pred = model.predict(X_test)\n",
    "print(classification_report(y_test, y_pred))"
   ]
  },
  {
   "cell_type": "code",
   "execution_count": 29,
   "metadata": {},
   "outputs": [
    {
     "data": {
      "text/plain": [
       "NO INDICATION OF INJURY     32943\n",
       "REPORTED, NOT EVIDENT       17176\n",
       "NONINCAPACITATING INJURY     8479\n",
       "FATAL                        7523\n",
       "INCAPACITATING INJURY        5453\n",
       "dtype: int64"
      ]
     },
     "execution_count": 29,
     "metadata": {},
     "output_type": "execute_result"
    }
   ],
   "source": [
    "pd.Series(y_pred).value_counts()"
   ]
  },
  {
   "cell_type": "code",
   "execution_count": 30,
   "metadata": {},
   "outputs": [
    {
     "data": {
      "image/png": "[encoded data removed]",
      "text/plain": [
       "<Figure size 432x288 with 2 Axes>"
      ]
     },
     "metadata": {
      "needs_background": "light"
     },
     "output_type": "display_data"
    }
   ],
   "source": [
    "def plot_confusion_matrix(y_test, y_pred):\n",
    "    labels = unique_labels(y_test)\n",
    "    columns = [f'Predicted {label}' for label in labels]\n",
    "    index = [f'Actual {label}' for label in labels]\n",
    "    table = pd.DataFrame(confusion_matrix(y_test, y_pred), \n",
    "                         columns=columns, index=index)\n",
    "    return sns.heatmap(table, annot=True, fmt='d', cmap='viridis')\n",
    "\n",
    "plot_confusion_matrix(y_test, y_pred);"
   ]
  },
  {
   "cell_type": "markdown",
   "metadata": {},
   "source": [
    "Evaluate permutation importance:"
   ]
  },
  {
   "cell_type": "code",
   "execution_count": 31,
   "metadata": {},
   "outputs": [
    {
     "data": {
      "text/html": [
       "\n",
       "    <style>\n",
       "    table.eli5-weights tr:hover {\n",
       "        filter: brightness(85%);\n",
       "    }\n",
       "</style>\n",
       "\n",
       "\n",
       "\n",
       "    \n",
       "\n",
       "    \n",
       "\n",
       "    \n",
       "\n",
       "    \n",
       "\n",
       "    \n",
       "\n",
       "    \n",
       "\n",
       "\n",
       "    \n",
       "\n",
       "    \n",
       "\n",
       "    \n",
       "\n",
       "    \n",
       "\n",
       "    \n",
       "\n",
       "    \n",
       "\n",
       "\n",
       "    \n",
       "\n",
       "    \n",
       "\n",
       "    \n",
       "\n",
       "    \n",
       "\n",
       "    \n",
       "        <table class=\"eli5-weights eli5-feature-importances\" style=\"border-collapse: collapse; border: none; margin-top: 0em; table-layout: auto;\">\n",
       "    <thead>\n",
       "    <tr style=\"border: none;\">\n",
       "        <th style=\"padding: 0 1em 0 0.5em; text-align: right; border: none;\">Weight</th>\n",
       "        <th style=\"padding: 0 0.5em 0 0.5em; text-align: left; border: none;\">Feature</th>\n",
       "    </tr>\n",
       "    </thead>\n",
       "    <tbody>\n",
       "    \n",
       "        <tr style=\"background-color: hsl(120, 100.00%, 80.00%); border: none;\">\n",
       "            <td style=\"padding: 0 1em 0 0.5em; text-align: right; border: none;\">\n",
       "                0.0019\n",
       "                \n",
       "                    &plusmn; 0.0055\n",
       "                \n",
       "            </td>\n",
       "            <td style=\"padding: 0 0.5em 0 0.5em; text-align: left; border: none;\">\n",
       "                POSTED_SPEED_LIMIT\n",
       "            </td>\n",
       "        </tr>\n",
       "    \n",
       "        <tr style=\"background-color: hsl(0, 100.00%, 100.00%); border: none;\">\n",
       "            <td style=\"padding: 0 1em 0 0.5em; text-align: right; border: none;\">\n",
       "                0\n",
       "                \n",
       "                    &plusmn; 0.0000\n",
       "                \n",
       "            </td>\n",
       "            <td style=\"padding: 0 0.5em 0 0.5em; text-align: left; border: none;\">\n",
       "                PRIM_CONTRIBUTORY_CAUSE\n",
       "            </td>\n",
       "        </tr>\n",
       "    \n",
       "        <tr style=\"background-color: hsl(0, 100.00%, 100.00%); border: none;\">\n",
       "            <td style=\"padding: 0 1em 0 0.5em; text-align: right; border: none;\">\n",
       "                0\n",
       "                \n",
       "                    &plusmn; 0.0000\n",
       "                \n",
       "            </td>\n",
       "            <td style=\"padding: 0 0.5em 0 0.5em; text-align: left; border: none;\">\n",
       "                ROAD_DEFECT\n",
       "            </td>\n",
       "        </tr>\n",
       "    \n",
       "        <tr style=\"background-color: hsl(0, 100.00%, 100.00%); border: none;\">\n",
       "            <td style=\"padding: 0 1em 0 0.5em; text-align: right; border: none;\">\n",
       "                0\n",
       "                \n",
       "                    &plusmn; 0.0000\n",
       "                \n",
       "            </td>\n",
       "            <td style=\"padding: 0 0.5em 0 0.5em; text-align: left; border: none;\">\n",
       "                ROADWAY_SURFACE_COND\n",
       "            </td>\n",
       "        </tr>\n",
       "    \n",
       "        <tr style=\"background-color: hsl(0, 100.00%, 100.00%); border: none;\">\n",
       "            <td style=\"padding: 0 1em 0 0.5em; text-align: right; border: none;\">\n",
       "                0\n",
       "                \n",
       "                    &plusmn; 0.0000\n",
       "                \n",
       "            </td>\n",
       "            <td style=\"padding: 0 0.5em 0 0.5em; text-align: left; border: none;\">\n",
       "                ALIGNMENT\n",
       "            </td>\n",
       "        </tr>\n",
       "    \n",
       "        <tr style=\"background-color: hsl(0, 100.00%, 100.00%); border: none;\">\n",
       "            <td style=\"padding: 0 1em 0 0.5em; text-align: right; border: none;\">\n",
       "                0\n",
       "                \n",
       "                    &plusmn; 0.0000\n",
       "                \n",
       "            </td>\n",
       "            <td style=\"padding: 0 0.5em 0 0.5em; text-align: left; border: none;\">\n",
       "                TRAFFICWAY_TYPE\n",
       "            </td>\n",
       "        </tr>\n",
       "    \n",
       "        <tr style=\"background-color: hsl(0, 100.00%, 100.00%); border: none;\">\n",
       "            <td style=\"padding: 0 1em 0 0.5em; text-align: right; border: none;\">\n",
       "                0\n",
       "                \n",
       "                    &plusmn; 0.0000\n",
       "                \n",
       "            </td>\n",
       "            <td style=\"padding: 0 0.5em 0 0.5em; text-align: left; border: none;\">\n",
       "                FIRST_CRASH_TYPE\n",
       "            </td>\n",
       "        </tr>\n",
       "    \n",
       "        <tr style=\"background-color: hsl(0, 100.00%, 100.00%); border: none;\">\n",
       "            <td style=\"padding: 0 1em 0 0.5em; text-align: right; border: none;\">\n",
       "                0\n",
       "                \n",
       "                    &plusmn; 0.0000\n",
       "                \n",
       "            </td>\n",
       "            <td style=\"padding: 0 0.5em 0 0.5em; text-align: left; border: none;\">\n",
       "                LIGHTING_CONDITION\n",
       "            </td>\n",
       "        </tr>\n",
       "    \n",
       "        <tr style=\"background-color: hsl(0, 100.00%, 100.00%); border: none;\">\n",
       "            <td style=\"padding: 0 1em 0 0.5em; text-align: right; border: none;\">\n",
       "                0\n",
       "                \n",
       "                    &plusmn; 0.0000\n",
       "                \n",
       "            </td>\n",
       "            <td style=\"padding: 0 0.5em 0 0.5em; text-align: left; border: none;\">\n",
       "                WEATHER_CONDITION\n",
       "            </td>\n",
       "        </tr>\n",
       "    \n",
       "        <tr style=\"background-color: hsl(0, 100.00%, 100.00%); border: none;\">\n",
       "            <td style=\"padding: 0 1em 0 0.5em; text-align: right; border: none;\">\n",
       "                0\n",
       "                \n",
       "                    &plusmn; 0.0000\n",
       "                \n",
       "            </td>\n",
       "            <td style=\"padding: 0 0.5em 0 0.5em; text-align: left; border: none;\">\n",
       "                TRAFFIC_CONTROL_DEVICE\n",
       "            </td>\n",
       "        </tr>\n",
       "    \n",
       "        <tr style=\"background-color: hsl(0, 100.00%, 100.00%); border: none;\">\n",
       "            <td style=\"padding: 0 1em 0 0.5em; text-align: right; border: none;\">\n",
       "                0\n",
       "                \n",
       "                    &plusmn; 0.0000\n",
       "                \n",
       "            </td>\n",
       "            <td style=\"padding: 0 0.5em 0 0.5em; text-align: left; border: none;\">\n",
       "                HOUR\n",
       "            </td>\n",
       "        </tr>\n",
       "    \n",
       "        <tr style=\"background-color: hsl(0, 100.00%, 100.00%); border: none;\">\n",
       "            <td style=\"padding: 0 1em 0 0.5em; text-align: right; border: none;\">\n",
       "                0\n",
       "                \n",
       "                    &plusmn; 0.0000\n",
       "                \n",
       "            </td>\n",
       "            <td style=\"padding: 0 0.5em 0 0.5em; text-align: left; border: none;\">\n",
       "                MONTH\n",
       "            </td>\n",
       "        </tr>\n",
       "    \n",
       "    \n",
       "    </tbody>\n",
       "</table>\n",
       "    \n",
       "\n",
       "    \n",
       "\n",
       "\n",
       "    \n",
       "\n",
       "    \n",
       "\n",
       "    \n",
       "\n",
       "    \n",
       "\n",
       "    \n",
       "\n",
       "    \n",
       "\n",
       "\n",
       "\n"
      ],
      "text/plain": [
       "<IPython.core.display.HTML object>"
      ]
     },
     "execution_count": 31,
     "metadata": {},
     "output_type": "execute_result"
    }
   ],
   "source": [
    "preprocessor = ce.OrdinalEncoder()\n",
    "X_train_transformed = preprocessor.fit_transform(X_train[features])\n",
    "\n",
    "model = search.best_estimator_\n",
    "model.fit(X_train_transformed, y_train)\n",
    "\n",
    "permuter = PermutationImportance(model, \n",
    "                                 make_scorer(recall_score, average = 'macro', \n",
    "                                             labels = ['NONINCAPACITATING INJURY', 'INCAPACITATING INJURY', 'FATAL']), \n",
    "                                 n_iter = 10, \n",
    "                                 cv = 'prefit')\n",
    "permuter.fit(X_train_transformed, y_train)\n",
    "\n",
    "eli5.show_weights(permuter, top=None, feature_names=features)"
   ]
  },
  {
   "cell_type": "code",
   "execution_count": null,
   "metadata": {},
   "outputs": [],
   "source": []
  }
 ],
 "metadata": {
  "kernelspec": {
   "display_name": "Python 3",
   "language": "python",
   "name": "python3"
  },
  "language_info": {
   "codemirror_mode": {
    "name": "ipython",
    "version": 3
   },
   "file_extension": ".py",
   "mimetype": "text/x-python",
   "name": "python",
   "nbconvert_exporter": "python",
   "pygments_lexer": "ipython3",
   "version": "3.7.4"
  }
 },
 "nbformat": 4,
 "nbformat_minor": 2
}
